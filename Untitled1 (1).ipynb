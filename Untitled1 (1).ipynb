{
  "nbformat": 4,
  "nbformat_minor": 0,
  "metadata": {
    "colab": {
      "provenance": []
    },
    "kernelspec": {
      "name": "python3",
      "display_name": "Python 3"
    },
    "language_info": {
      "name": "python"
    }
  },
  "cells": [
    {
      "cell_type": "code",
      "execution_count": 1,
      "metadata": {
        "id": "7NMoW_mbe4Gl"
      },
      "outputs": [],
      "source": [
        "import pandas as pd\n",
        "import numpy as np\n",
        "import matplotlib.pyplot as plt\n",
        "import seaborn as sns\n",
        "from sklearn.model_selection import train_test_split\n",
        "from sklearn.preprocessing import MinMaxScaler\n",
        "from sklearn.ensemble import RandomForestClassifier\n",
        "from sklearn.linear_model import LogisticRegression\n",
        "from sklearn.svm import SVC\n",
        "from sklearn.neighbors import KNeighborsClassifier"
      ]
    },
    {
      "cell_type": "markdown",
      "source": [
        "Importing data"
      ],
      "metadata": {
        "id": "8Sdd6QwqfAI8"
      }
    },
    {
      "cell_type": "code",
      "source": [
        "heart_data = pd.read_csv('heart.csv')\n",
        "heart_data.head()"
      ],
      "metadata": {
        "colab": {
          "base_uri": "https://localhost:8080/",
          "height": 226
        },
        "id": "MfmbHdcTfBtl",
        "outputId": "96e7db5c-d18e-4be2-b608-5c0e808f98b1"
      },
      "execution_count": 7,
      "outputs": [
        {
          "output_type": "execute_result",
          "data": {
            "text/plain": [
              "   age  sex  cp  trtbps  chol  fbs  restecg  thalachh  exng  oldpeak  slp  \\\n",
              "0   63    1   3     145   233    1        0       150     0      2.3    0   \n",
              "1   37    1   2     130   250    0        1       187     0      3.5    0   \n",
              "2   41    0   1     130   204    0        0       172     0      1.4    2   \n",
              "3   56    1   1     120   236    0        1       178     0      0.8    2   \n",
              "4   57    0   0     120   354    0        1       163     1      0.6    2   \n",
              "\n",
              "   caa  thall  output  \n",
              "0    0      1       1  \n",
              "1    0      2       1  \n",
              "2    0      2       1  \n",
              "3    0      2       1  \n",
              "4    0      2       1  "
            ],
            "text/html": [
              "\n",
              "  <div id=\"df-41104698-9283-4aac-8a2a-0c558410dc25\" class=\"colab-df-container\">\n",
              "    <div>\n",
              "<style scoped>\n",
              "    .dataframe tbody tr th:only-of-type {\n",
              "        vertical-align: middle;\n",
              "    }\n",
              "\n",
              "    .dataframe tbody tr th {\n",
              "        vertical-align: top;\n",
              "    }\n",
              "\n",
              "    .dataframe thead th {\n",
              "        text-align: right;\n",
              "    }\n",
              "</style>\n",
              "<table border=\"1\" class=\"dataframe\">\n",
              "  <thead>\n",
              "    <tr style=\"text-align: right;\">\n",
              "      <th></th>\n",
              "      <th>age</th>\n",
              "      <th>sex</th>\n",
              "      <th>cp</th>\n",
              "      <th>trtbps</th>\n",
              "      <th>chol</th>\n",
              "      <th>fbs</th>\n",
              "      <th>restecg</th>\n",
              "      <th>thalachh</th>\n",
              "      <th>exng</th>\n",
              "      <th>oldpeak</th>\n",
              "      <th>slp</th>\n",
              "      <th>caa</th>\n",
              "      <th>thall</th>\n",
              "      <th>output</th>\n",
              "    </tr>\n",
              "  </thead>\n",
              "  <tbody>\n",
              "    <tr>\n",
              "      <th>0</th>\n",
              "      <td>63</td>\n",
              "      <td>1</td>\n",
              "      <td>3</td>\n",
              "      <td>145</td>\n",
              "      <td>233</td>\n",
              "      <td>1</td>\n",
              "      <td>0</td>\n",
              "      <td>150</td>\n",
              "      <td>0</td>\n",
              "      <td>2.3</td>\n",
              "      <td>0</td>\n",
              "      <td>0</td>\n",
              "      <td>1</td>\n",
              "      <td>1</td>\n",
              "    </tr>\n",
              "    <tr>\n",
              "      <th>1</th>\n",
              "      <td>37</td>\n",
              "      <td>1</td>\n",
              "      <td>2</td>\n",
              "      <td>130</td>\n",
              "      <td>250</td>\n",
              "      <td>0</td>\n",
              "      <td>1</td>\n",
              "      <td>187</td>\n",
              "      <td>0</td>\n",
              "      <td>3.5</td>\n",
              "      <td>0</td>\n",
              "      <td>0</td>\n",
              "      <td>2</td>\n",
              "      <td>1</td>\n",
              "    </tr>\n",
              "    <tr>\n",
              "      <th>2</th>\n",
              "      <td>41</td>\n",
              "      <td>0</td>\n",
              "      <td>1</td>\n",
              "      <td>130</td>\n",
              "      <td>204</td>\n",
              "      <td>0</td>\n",
              "      <td>0</td>\n",
              "      <td>172</td>\n",
              "      <td>0</td>\n",
              "      <td>1.4</td>\n",
              "      <td>2</td>\n",
              "      <td>0</td>\n",
              "      <td>2</td>\n",
              "      <td>1</td>\n",
              "    </tr>\n",
              "    <tr>\n",
              "      <th>3</th>\n",
              "      <td>56</td>\n",
              "      <td>1</td>\n",
              "      <td>1</td>\n",
              "      <td>120</td>\n",
              "      <td>236</td>\n",
              "      <td>0</td>\n",
              "      <td>1</td>\n",
              "      <td>178</td>\n",
              "      <td>0</td>\n",
              "      <td>0.8</td>\n",
              "      <td>2</td>\n",
              "      <td>0</td>\n",
              "      <td>2</td>\n",
              "      <td>1</td>\n",
              "    </tr>\n",
              "    <tr>\n",
              "      <th>4</th>\n",
              "      <td>57</td>\n",
              "      <td>0</td>\n",
              "      <td>0</td>\n",
              "      <td>120</td>\n",
              "      <td>354</td>\n",
              "      <td>0</td>\n",
              "      <td>1</td>\n",
              "      <td>163</td>\n",
              "      <td>1</td>\n",
              "      <td>0.6</td>\n",
              "      <td>2</td>\n",
              "      <td>0</td>\n",
              "      <td>2</td>\n",
              "      <td>1</td>\n",
              "    </tr>\n",
              "  </tbody>\n",
              "</table>\n",
              "</div>\n",
              "    <div class=\"colab-df-buttons\">\n",
              "\n",
              "  <div class=\"colab-df-container\">\n",
              "    <button class=\"colab-df-convert\" onclick=\"convertToInteractive('df-41104698-9283-4aac-8a2a-0c558410dc25')\"\n",
              "            title=\"Convert this dataframe to an interactive table.\"\n",
              "            style=\"display:none;\">\n",
              "\n",
              "  <svg xmlns=\"http://www.w3.org/2000/svg\" height=\"24px\" viewBox=\"0 -960 960 960\">\n",
              "    <path d=\"M120-120v-720h720v720H120Zm60-500h600v-160H180v160Zm220 220h160v-160H400v160Zm0 220h160v-160H400v160ZM180-400h160v-160H180v160Zm440 0h160v-160H620v160ZM180-180h160v-160H180v160Zm440 0h160v-160H620v160Z\"/>\n",
              "  </svg>\n",
              "    </button>\n",
              "\n",
              "  <style>\n",
              "    .colab-df-container {\n",
              "      display:flex;\n",
              "      gap: 12px;\n",
              "    }\n",
              "\n",
              "    .colab-df-convert {\n",
              "      background-color: #E8F0FE;\n",
              "      border: none;\n",
              "      border-radius: 50%;\n",
              "      cursor: pointer;\n",
              "      display: none;\n",
              "      fill: #1967D2;\n",
              "      height: 32px;\n",
              "      padding: 0 0 0 0;\n",
              "      width: 32px;\n",
              "    }\n",
              "\n",
              "    .colab-df-convert:hover {\n",
              "      background-color: #E2EBFA;\n",
              "      box-shadow: 0px 1px 2px rgba(60, 64, 67, 0.3), 0px 1px 3px 1px rgba(60, 64, 67, 0.15);\n",
              "      fill: #174EA6;\n",
              "    }\n",
              "\n",
              "    .colab-df-buttons div {\n",
              "      margin-bottom: 4px;\n",
              "    }\n",
              "\n",
              "    [theme=dark] .colab-df-convert {\n",
              "      background-color: #3B4455;\n",
              "      fill: #D2E3FC;\n",
              "    }\n",
              "\n",
              "    [theme=dark] .colab-df-convert:hover {\n",
              "      background-color: #434B5C;\n",
              "      box-shadow: 0px 1px 3px 1px rgba(0, 0, 0, 0.15);\n",
              "      filter: drop-shadow(0px 1px 2px rgba(0, 0, 0, 0.3));\n",
              "      fill: #FFFFFF;\n",
              "    }\n",
              "  </style>\n",
              "\n",
              "    <script>\n",
              "      const buttonEl =\n",
              "        document.querySelector('#df-41104698-9283-4aac-8a2a-0c558410dc25 button.colab-df-convert');\n",
              "      buttonEl.style.display =\n",
              "        google.colab.kernel.accessAllowed ? 'block' : 'none';\n",
              "\n",
              "      async function convertToInteractive(key) {\n",
              "        const element = document.querySelector('#df-41104698-9283-4aac-8a2a-0c558410dc25');\n",
              "        const dataTable =\n",
              "          await google.colab.kernel.invokeFunction('convertToInteractive',\n",
              "                                                    [key], {});\n",
              "        if (!dataTable) return;\n",
              "\n",
              "        const docLinkHtml = 'Like what you see? Visit the ' +\n",
              "          '<a target=\"_blank\" href=https://colab.research.google.com/notebooks/data_table.ipynb>data table notebook</a>'\n",
              "          + ' to learn more about interactive tables.';\n",
              "        element.innerHTML = '';\n",
              "        dataTable['output_type'] = 'display_data';\n",
              "        await google.colab.output.renderOutput(dataTable, element);\n",
              "        const docLink = document.createElement('div');\n",
              "        docLink.innerHTML = docLinkHtml;\n",
              "        element.appendChild(docLink);\n",
              "      }\n",
              "    </script>\n",
              "  </div>\n",
              "\n",
              "\n",
              "<div id=\"df-406b0880-8d25-402c-994b-c67395e9e74c\">\n",
              "  <button class=\"colab-df-quickchart\" onclick=\"quickchart('df-406b0880-8d25-402c-994b-c67395e9e74c')\"\n",
              "            title=\"Suggest charts\"\n",
              "            style=\"display:none;\">\n",
              "\n",
              "<svg xmlns=\"http://www.w3.org/2000/svg\" height=\"24px\"viewBox=\"0 0 24 24\"\n",
              "     width=\"24px\">\n",
              "    <g>\n",
              "        <path d=\"M19 3H5c-1.1 0-2 .9-2 2v14c0 1.1.9 2 2 2h14c1.1 0 2-.9 2-2V5c0-1.1-.9-2-2-2zM9 17H7v-7h2v7zm4 0h-2V7h2v10zm4 0h-2v-4h2v4z\"/>\n",
              "    </g>\n",
              "</svg>\n",
              "  </button>\n",
              "\n",
              "<style>\n",
              "  .colab-df-quickchart {\n",
              "      --bg-color: #E8F0FE;\n",
              "      --fill-color: #1967D2;\n",
              "      --hover-bg-color: #E2EBFA;\n",
              "      --hover-fill-color: #174EA6;\n",
              "      --disabled-fill-color: #AAA;\n",
              "      --disabled-bg-color: #DDD;\n",
              "  }\n",
              "\n",
              "  [theme=dark] .colab-df-quickchart {\n",
              "      --bg-color: #3B4455;\n",
              "      --fill-color: #D2E3FC;\n",
              "      --hover-bg-color: #434B5C;\n",
              "      --hover-fill-color: #FFFFFF;\n",
              "      --disabled-bg-color: #3B4455;\n",
              "      --disabled-fill-color: #666;\n",
              "  }\n",
              "\n",
              "  .colab-df-quickchart {\n",
              "    background-color: var(--bg-color);\n",
              "    border: none;\n",
              "    border-radius: 50%;\n",
              "    cursor: pointer;\n",
              "    display: none;\n",
              "    fill: var(--fill-color);\n",
              "    height: 32px;\n",
              "    padding: 0;\n",
              "    width: 32px;\n",
              "  }\n",
              "\n",
              "  .colab-df-quickchart:hover {\n",
              "    background-color: var(--hover-bg-color);\n",
              "    box-shadow: 0 1px 2px rgba(60, 64, 67, 0.3), 0 1px 3px 1px rgba(60, 64, 67, 0.15);\n",
              "    fill: var(--button-hover-fill-color);\n",
              "  }\n",
              "\n",
              "  .colab-df-quickchart-complete:disabled,\n",
              "  .colab-df-quickchart-complete:disabled:hover {\n",
              "    background-color: var(--disabled-bg-color);\n",
              "    fill: var(--disabled-fill-color);\n",
              "    box-shadow: none;\n",
              "  }\n",
              "\n",
              "  .colab-df-spinner {\n",
              "    border: 2px solid var(--fill-color);\n",
              "    border-color: transparent;\n",
              "    border-bottom-color: var(--fill-color);\n",
              "    animation:\n",
              "      spin 1s steps(1) infinite;\n",
              "  }\n",
              "\n",
              "  @keyframes spin {\n",
              "    0% {\n",
              "      border-color: transparent;\n",
              "      border-bottom-color: var(--fill-color);\n",
              "      border-left-color: var(--fill-color);\n",
              "    }\n",
              "    20% {\n",
              "      border-color: transparent;\n",
              "      border-left-color: var(--fill-color);\n",
              "      border-top-color: var(--fill-color);\n",
              "    }\n",
              "    30% {\n",
              "      border-color: transparent;\n",
              "      border-left-color: var(--fill-color);\n",
              "      border-top-color: var(--fill-color);\n",
              "      border-right-color: var(--fill-color);\n",
              "    }\n",
              "    40% {\n",
              "      border-color: transparent;\n",
              "      border-right-color: var(--fill-color);\n",
              "      border-top-color: var(--fill-color);\n",
              "    }\n",
              "    60% {\n",
              "      border-color: transparent;\n",
              "      border-right-color: var(--fill-color);\n",
              "    }\n",
              "    80% {\n",
              "      border-color: transparent;\n",
              "      border-right-color: var(--fill-color);\n",
              "      border-bottom-color: var(--fill-color);\n",
              "    }\n",
              "    90% {\n",
              "      border-color: transparent;\n",
              "      border-bottom-color: var(--fill-color);\n",
              "    }\n",
              "  }\n",
              "</style>\n",
              "\n",
              "  <script>\n",
              "    async function quickchart(key) {\n",
              "      const quickchartButtonEl =\n",
              "        document.querySelector('#' + key + ' button');\n",
              "      quickchartButtonEl.disabled = true;  // To prevent multiple clicks.\n",
              "      quickchartButtonEl.classList.add('colab-df-spinner');\n",
              "      try {\n",
              "        const charts = await google.colab.kernel.invokeFunction(\n",
              "            'suggestCharts', [key], {});\n",
              "      } catch (error) {\n",
              "        console.error('Error during call to suggestCharts:', error);\n",
              "      }\n",
              "      quickchartButtonEl.classList.remove('colab-df-spinner');\n",
              "      quickchartButtonEl.classList.add('colab-df-quickchart-complete');\n",
              "    }\n",
              "    (() => {\n",
              "      let quickchartButtonEl =\n",
              "        document.querySelector('#df-406b0880-8d25-402c-994b-c67395e9e74c button');\n",
              "      quickchartButtonEl.style.display =\n",
              "        google.colab.kernel.accessAllowed ? 'block' : 'none';\n",
              "    })();\n",
              "  </script>\n",
              "</div>\n",
              "\n",
              "    </div>\n",
              "  </div>\n"
            ],
            "application/vnd.google.colaboratory.intrinsic+json": {
              "type": "dataframe",
              "variable_name": "heart_data",
              "summary": "{\n  \"name\": \"heart_data\",\n  \"rows\": 302,\n  \"fields\": [\n    {\n      \"column\": \"age\",\n      \"properties\": {\n        \"dtype\": \"number\",\n        \"std\": 9,\n        \"min\": 29,\n        \"max\": 77,\n        \"num_unique_values\": 41,\n        \"samples\": [\n          46,\n          66,\n          48\n        ],\n        \"semantic_type\": \"\",\n        \"description\": \"\"\n      }\n    },\n    {\n      \"column\": \"sex\",\n      \"properties\": {\n        \"dtype\": \"number\",\n        \"std\": 0,\n        \"min\": 0,\n        \"max\": 1,\n        \"num_unique_values\": 2,\n        \"samples\": [\n          0,\n          1\n        ],\n        \"semantic_type\": \"\",\n        \"description\": \"\"\n      }\n    },\n    {\n      \"column\": \"cp\",\n      \"properties\": {\n        \"dtype\": \"number\",\n        \"std\": 1,\n        \"min\": 0,\n        \"max\": 3,\n        \"num_unique_values\": 4,\n        \"samples\": [\n          2,\n          0\n        ],\n        \"semantic_type\": \"\",\n        \"description\": \"\"\n      }\n    },\n    {\n      \"column\": \"trtbps\",\n      \"properties\": {\n        \"dtype\": \"number\",\n        \"std\": 17,\n        \"min\": 94,\n        \"max\": 200,\n        \"num_unique_values\": 49,\n        \"samples\": [\n          104,\n          123\n        ],\n        \"semantic_type\": \"\",\n        \"description\": \"\"\n      }\n    },\n    {\n      \"column\": \"chol\",\n      \"properties\": {\n        \"dtype\": \"number\",\n        \"std\": 51,\n        \"min\": 126,\n        \"max\": 564,\n        \"num_unique_values\": 152,\n        \"samples\": [\n          277,\n          169\n        ],\n        \"semantic_type\": \"\",\n        \"description\": \"\"\n      }\n    },\n    {\n      \"column\": \"fbs\",\n      \"properties\": {\n        \"dtype\": \"number\",\n        \"std\": 0,\n        \"min\": 0,\n        \"max\": 1,\n        \"num_unique_values\": 2,\n        \"samples\": [\n          0,\n          1\n        ],\n        \"semantic_type\": \"\",\n        \"description\": \"\"\n      }\n    },\n    {\n      \"column\": \"restecg\",\n      \"properties\": {\n        \"dtype\": \"number\",\n        \"std\": 0,\n        \"min\": 0,\n        \"max\": 2,\n        \"num_unique_values\": 3,\n        \"samples\": [\n          0,\n          1\n        ],\n        \"semantic_type\": \"\",\n        \"description\": \"\"\n      }\n    },\n    {\n      \"column\": \"thalachh\",\n      \"properties\": {\n        \"dtype\": \"number\",\n        \"std\": 22,\n        \"min\": 71,\n        \"max\": 202,\n        \"num_unique_values\": 91,\n        \"samples\": [\n          159,\n          152\n        ],\n        \"semantic_type\": \"\",\n        \"description\": \"\"\n      }\n    },\n    {\n      \"column\": \"exng\",\n      \"properties\": {\n        \"dtype\": \"number\",\n        \"std\": 0,\n        \"min\": 0,\n        \"max\": 1,\n        \"num_unique_values\": 2,\n        \"samples\": [\n          1,\n          0\n        ],\n        \"semantic_type\": \"\",\n        \"description\": \"\"\n      }\n    },\n    {\n      \"column\": \"oldpeak\",\n      \"properties\": {\n        \"dtype\": \"number\",\n        \"std\": 1.1614522890634564,\n        \"min\": 0.0,\n        \"max\": 6.2,\n        \"num_unique_values\": 40,\n        \"samples\": [\n          1.9,\n          3.0\n        ],\n        \"semantic_type\": \"\",\n        \"description\": \"\"\n      }\n    },\n    {\n      \"column\": \"slp\",\n      \"properties\": {\n        \"dtype\": \"number\",\n        \"std\": 0,\n        \"min\": 0,\n        \"max\": 2,\n        \"num_unique_values\": 3,\n        \"samples\": [\n          0,\n          2\n        ],\n        \"semantic_type\": \"\",\n        \"description\": \"\"\n      }\n    },\n    {\n      \"column\": \"caa\",\n      \"properties\": {\n        \"dtype\": \"number\",\n        \"std\": 1,\n        \"min\": 0,\n        \"max\": 4,\n        \"num_unique_values\": 5,\n        \"samples\": [\n          2,\n          4\n        ],\n        \"semantic_type\": \"\",\n        \"description\": \"\"\n      }\n    },\n    {\n      \"column\": \"thall\",\n      \"properties\": {\n        \"dtype\": \"number\",\n        \"std\": 0,\n        \"min\": 0,\n        \"max\": 3,\n        \"num_unique_values\": 4,\n        \"samples\": [\n          2,\n          0\n        ],\n        \"semantic_type\": \"\",\n        \"description\": \"\"\n      }\n    },\n    {\n      \"column\": \"output\",\n      \"properties\": {\n        \"dtype\": \"number\",\n        \"std\": 0,\n        \"min\": 0,\n        \"max\": 1,\n        \"num_unique_values\": 2,\n        \"samples\": [\n          0,\n          1\n        ],\n        \"semantic_type\": \"\",\n        \"description\": \"\"\n      }\n    }\n  ]\n}"
            }
          },
          "metadata": {},
          "execution_count": 7
        }
      ]
    },
    {
      "cell_type": "code",
      "source": [
        "heart_data.info()"
      ],
      "metadata": {
        "colab": {
          "base_uri": "https://localhost:8080/"
        },
        "id": "7ej7UqcXfTJ8",
        "outputId": "20417649-813e-4ef1-e21e-81bd683a85af"
      },
      "execution_count": 8,
      "outputs": [
        {
          "output_type": "stream",
          "name": "stdout",
          "text": [
            "<class 'pandas.core.frame.DataFrame'>\n",
            "RangeIndex: 302 entries, 0 to 301\n",
            "Data columns (total 14 columns):\n",
            " #   Column    Non-Null Count  Dtype  \n",
            "---  ------    --------------  -----  \n",
            " 0   age       302 non-null    int64  \n",
            " 1   sex       302 non-null    int64  \n",
            " 2   cp        302 non-null    int64  \n",
            " 3   trtbps    302 non-null    int64  \n",
            " 4   chol      302 non-null    int64  \n",
            " 5   fbs       302 non-null    int64  \n",
            " 6   restecg   302 non-null    int64  \n",
            " 7   thalachh  302 non-null    int64  \n",
            " 8   exng      302 non-null    int64  \n",
            " 9   oldpeak   302 non-null    float64\n",
            " 10  slp       302 non-null    int64  \n",
            " 11  caa       302 non-null    int64  \n",
            " 12  thall     302 non-null    int64  \n",
            " 13  output    302 non-null    int64  \n",
            "dtypes: float64(1), int64(13)\n",
            "memory usage: 33.2 KB\n"
          ]
        }
      ]
    },
    {
      "cell_type": "markdown",
      "source": [
        "# **Dataset Description**\n",
        "\n",
        "**Context**\n",
        "This dataset is collected from UCI Repository ( [link](https://archive.ics.uci.edu/dataset/45/heart+disease) )\n",
        "\n",
        "\n",
        "Many research papers on Arrhythmia diagnosis had taken their dataset\n",
        "Primarily from MIT-BIH followed by UCI repositry.\n",
        "\n",
        "\n",
        "This data set dates from 1988 and consists of four databases: Cleveland, Hungary, Switzerland, and Long Beach V. It contains 76 attributes, including the predicted attribute, but all published experiments refer to using a subset of 14 of them. The \"target\" field refers to the presence of heart disease in the patient. It is integer valued 0 = no disease and 1 = disease.\n",
        "\n"
      ],
      "metadata": {
        "id": "8IbWk7iNfaCz"
      }
    },
    {
      "cell_type": "code",
      "source": [],
      "metadata": {
        "id": "AIimNma9hFQq"
      },
      "execution_count": null,
      "outputs": []
    },
    {
      "cell_type": "markdown",
      "source": [
        "# **Content**\n",
        "Attribute Information:"
      ],
      "metadata": {
        "id": "LflSCQ1riqf2"
      }
    },
    {
      "cell_type": "markdown",
      "source": [
        "1.age  (in years)\n",
        "\n",
        "2.sex  (1 = male; 0 = female)\n",
        "\n",
        "3.chest pain type ( 1 : Typical angina 2 : Atypical angina 3 : Non-anginal pain 4 : Asymptomatic)\n",
        "\n",
        "4.resting blood pressure  (resting blood pressure (in mm Hg on admission to the hospital))\n",
        "\n",
        "\n",
        "5.serum cholestoral (in mg/dl)\n",
        "\n",
        "6.fasting blood sugar\n",
        "\n",
        "\n",
        "*   (fasting blood sugar &gt; 120 mg/dl) (1 = true; 0 = false)\n",
        "\n",
        "\n",
        "\n",
        "\n",
        "7.resting electrocardiographic results (values 0,1,2)\n",
        "\n",
        "8.maximum heart rate achieved\n",
        "\n",
        "\n",
        "\n",
        "*   maximum heart rate achieved\n",
        "\n",
        "\n",
        "\n",
        "\n",
        "\n",
        "9.exang\n",
        "\n",
        "\n",
        "\n",
        "*   exercise induced angina (1 = yes; 0 = no)\n",
        "\n",
        "\n",
        "\n",
        "10.oldpeak\n",
        "\n",
        "\n",
        "* ST depression induced by exercise relative to rest\n",
        "\n",
        "\n",
        "11.the slope of the peak exercise ST segment\n",
        "\n",
        "12.number of major vessels (0-3) colored by flourosopy\n",
        "\n",
        "13.thal: [Thalassemia] 0 = normal; 1 = fixed defect; 2 = reversable defect\n",
        "\n",
        "The names and social security numbers of the patients were recently removed from the database, replaced with dummy values."
      ],
      "metadata": {
        "id": "OhV7vKR6hX90"
      }
    },
    {
      "cell_type": "markdown",
      "source": [
        "# **Data Preprocessing**"
      ],
      "metadata": {
        "id": "yiRkY0MOkMNh"
      }
    },
    {
      "cell_type": "markdown",
      "source": [
        "Checking for Missing Values\n"
      ],
      "metadata": {
        "id": "FPMi4dWmkc9O"
      }
    },
    {
      "cell_type": "code",
      "source": [
        "heart_data.isnull().sum()"
      ],
      "metadata": {
        "colab": {
          "base_uri": "https://localhost:8080/",
          "height": 523
        },
        "id": "eoN23IoQhDig",
        "outputId": "2b3a3295-55d5-4893-9c1c-eb40ca8ee4a0"
      },
      "execution_count": 9,
      "outputs": [
        {
          "output_type": "execute_result",
          "data": {
            "text/plain": [
              "age         0\n",
              "sex         0\n",
              "cp          0\n",
              "trtbps      0\n",
              "chol        0\n",
              "fbs         0\n",
              "restecg     0\n",
              "thalachh    0\n",
              "exng        0\n",
              "oldpeak     0\n",
              "slp         0\n",
              "caa         0\n",
              "thall       0\n",
              "output      0\n",
              "dtype: int64"
            ],
            "text/html": [
              "<div>\n",
              "<style scoped>\n",
              "    .dataframe tbody tr th:only-of-type {\n",
              "        vertical-align: middle;\n",
              "    }\n",
              "\n",
              "    .dataframe tbody tr th {\n",
              "        vertical-align: top;\n",
              "    }\n",
              "\n",
              "    .dataframe thead th {\n",
              "        text-align: right;\n",
              "    }\n",
              "</style>\n",
              "<table border=\"1\" class=\"dataframe\">\n",
              "  <thead>\n",
              "    <tr style=\"text-align: right;\">\n",
              "      <th></th>\n",
              "      <th>0</th>\n",
              "    </tr>\n",
              "  </thead>\n",
              "  <tbody>\n",
              "    <tr>\n",
              "      <th>age</th>\n",
              "      <td>0</td>\n",
              "    </tr>\n",
              "    <tr>\n",
              "      <th>sex</th>\n",
              "      <td>0</td>\n",
              "    </tr>\n",
              "    <tr>\n",
              "      <th>cp</th>\n",
              "      <td>0</td>\n",
              "    </tr>\n",
              "    <tr>\n",
              "      <th>trtbps</th>\n",
              "      <td>0</td>\n",
              "    </tr>\n",
              "    <tr>\n",
              "      <th>chol</th>\n",
              "      <td>0</td>\n",
              "    </tr>\n",
              "    <tr>\n",
              "      <th>fbs</th>\n",
              "      <td>0</td>\n",
              "    </tr>\n",
              "    <tr>\n",
              "      <th>restecg</th>\n",
              "      <td>0</td>\n",
              "    </tr>\n",
              "    <tr>\n",
              "      <th>thalachh</th>\n",
              "      <td>0</td>\n",
              "    </tr>\n",
              "    <tr>\n",
              "      <th>exng</th>\n",
              "      <td>0</td>\n",
              "    </tr>\n",
              "    <tr>\n",
              "      <th>oldpeak</th>\n",
              "      <td>0</td>\n",
              "    </tr>\n",
              "    <tr>\n",
              "      <th>slp</th>\n",
              "      <td>0</td>\n",
              "    </tr>\n",
              "    <tr>\n",
              "      <th>caa</th>\n",
              "      <td>0</td>\n",
              "    </tr>\n",
              "    <tr>\n",
              "      <th>thall</th>\n",
              "      <td>0</td>\n",
              "    </tr>\n",
              "    <tr>\n",
              "      <th>output</th>\n",
              "      <td>0</td>\n",
              "    </tr>\n",
              "  </tbody>\n",
              "</table>\n",
              "</div><br><label><b>dtype:</b> int64</label>"
            ]
          },
          "metadata": {},
          "execution_count": 9
        }
      ]
    },
    {
      "cell_type": "code",
      "source": [
        "heart_data.duplicated().sum()"
      ],
      "metadata": {
        "colab": {
          "base_uri": "https://localhost:8080/"
        },
        "id": "Oen9HbkZkl56",
        "outputId": "c30a7352-34ce-444b-bcfd-b32fe14e0f22"
      },
      "execution_count": 10,
      "outputs": [
        {
          "output_type": "execute_result",
          "data": {
            "text/plain": [
              "0"
            ]
          },
          "metadata": {},
          "execution_count": 10
        }
      ]
    },
    {
      "cell_type": "code",
      "source": [
        "duplicate_rows = heart_data[heart_data.duplicated()]\n",
        "print(duplicate_rows)\n"
      ],
      "metadata": {
        "colab": {
          "base_uri": "https://localhost:8080/"
        },
        "id": "xOcqncvjlLCJ",
        "outputId": "2a2380f1-905b-4759-fc45-24f28aa0df3b"
      },
      "execution_count": 6,
      "outputs": [
        {
          "output_type": "stream",
          "name": "stdout",
          "text": [
            "     age  sex  cp  trtbps  chol  fbs  restecg  thalachh  exng  oldpeak  slp  \\\n",
            "164   38    1   2     138   175    0        1       173     0      0.0    2   \n",
            "\n",
            "     caa  thall  output  \n",
            "164    4      2       1  \n"
          ]
        }
      ]
    },
    {
      "cell_type": "markdown",
      "source": [
        "Duplicate entry found\n"
      ],
      "metadata": {
        "id": "8-qThazrlsWg"
      }
    },
    {
      "cell_type": "markdown",
      "source": [
        "Removed the duplicate entry."
      ],
      "metadata": {
        "id": "n1lwHb4bl0AS"
      }
    },
    {
      "cell_type": "code",
      "source": [
        "heart_data.duplicated().sum()"
      ],
      "metadata": {
        "colab": {
          "base_uri": "https://localhost:8080/"
        },
        "id": "Dv61wJeHl3yr",
        "outputId": "cdcf1400-e03e-496f-f9e0-11276df76e69"
      },
      "execution_count": 11,
      "outputs": [
        {
          "output_type": "execute_result",
          "data": {
            "text/plain": [
              "0"
            ]
          },
          "metadata": {},
          "execution_count": 11
        }
      ]
    },
    {
      "cell_type": "markdown",
      "source": [
        "Detecting & Handling Potential Outliers\n"
      ],
      "metadata": {
        "id": "NzkwliVzmIin"
      }
    },
    {
      "cell_type": "code",
      "source": [
        "plt.boxplot(heart_data['age'], vert=False)\n",
        "plt.title('Boxplot of age')\n",
        "plt.xlabel('Age')\n",
        "plt.ylabel('Years')\n",
        "plt.show()"
      ],
      "metadata": {
        "colab": {
          "base_uri": "https://localhost:8080/",
          "height": 472
        },
        "id": "5Md0svAJmI_5",
        "outputId": "2ab830ae-a9f1-457e-95e1-0fa3e551aefa"
      },
      "execution_count": 13,
      "outputs": [
        {
          "output_type": "display_data",
          "data": {
            "text/plain": [
              "<Figure size 640x480 with 1 Axes>"
            ],
            "image/png": "[encoded data removed]"
          },
          "metadata": {}
        }
      ]
    },
    {
      "cell_type": "code",
      "source": [
        "plt.boxplot(heart_data['sex'], vert=False)\n",
        "plt.title('Boxplot of sex')\n",
        "plt.xlabel('sex')\n",
        "plt.show()"
      ],
      "metadata": {
        "colab": {
          "base_uri": "https://localhost:8080/",
          "height": 472
        },
        "id": "1o3OcLMGmTQJ",
        "outputId": "6ef5d0af-ec91-4938-8477-6a0262787720"
      },
      "execution_count": 14,
      "outputs": [
        {
          "output_type": "display_data",
          "data": {
            "text/plain": [
              "<Figure size 640x480 with 1 Axes>"
            ],
            "image/png": "[encoded data removed]"
          },
          "metadata": {}
        }
      ]
    },
    {
      "cell_type": "code",
      "source": [
        "plt.boxplot(heart_data['cp'], vert=False)\n",
        "plt.title('Boxplot of chest paint')\n",
        "plt.xlabel('chest pain')\n",
        "plt.show()"
      ],
      "metadata": {
        "colab": {
          "base_uri": "https://localhost:8080/",
          "height": 472
        },
        "id": "JfKcdTrcmlXa",
        "outputId": "8a3df066-25d6-4354-b5db-90b65340652f"
      },
      "execution_count": 16,
      "outputs": [
        {
          "output_type": "display_data",
          "data": {
            "text/plain": [
              "<Figure size 640x480 with 1 Axes>"
            ],
            "image/png": "[encoded data removed]"
          },
          "metadata": {}
        }
      ]
    },
    {
      "cell_type": "code",
      "source": [
        "plt.boxplot(heart_data['trtbps'], vert=False)\n",
        "plt.title('Boxplot of resting blood pressure')\n",
        "plt.xlabel('Resting BP')\n",
        "plt.ylabel('in mm hg')\n",
        "plt.show()"
      ],
      "metadata": {
        "colab": {
          "base_uri": "https://localhost:8080/",
          "height": 472
        },
        "id": "IW1oMUgUm31K",
        "outputId": "796f4a70-b02b-413a-c8de-5d3f548ececb"
      },
      "execution_count": 17,
      "outputs": [
        {
          "output_type": "display_data",
          "data": {
            "text/plain": [
              "<Figure size 640x480 with 1 Axes>"
            ],
            "image/png": "[encoded data removed]"
          },
          "metadata": {}
        }
      ]
    },
    {
      "cell_type": "code",
      "source": [
        "plt.boxplot(heart_data['chol'], vert=False)\n",
        "plt.title('Boxplot of serum cholesterol')\n",
        "plt.xlabel('cholesterol')\n",
        "plt.ylabel('in mg/dl')\n",
        "plt.show()"
      ],
      "metadata": {
        "colab": {
          "base_uri": "https://localhost:8080/",
          "height": 472
        },
        "id": "wbtETSYYnMUh",
        "outputId": "249e5f94-9f17-41f8-a64a-3861b413c72d"
      },
      "execution_count": 18,
      "outputs": [
        {
          "output_type": "display_data",
          "data": {
            "text/plain": [
              "<Figure size 640x480 with 1 Axes>"
            ],
            "image/png": "[encoded data removed]"
          },
          "metadata": {}
        }
      ]
    },
    {
      "cell_type": "code",
      "source": [
        "heart_data.describe().T\n"
      ],
      "metadata": {
        "colab": {
          "base_uri": "https://localhost:8080/",
          "height": 488
        },
        "id": "CPLBW7NvnnfN",
        "outputId": "1ccf6d59-7503-4d57-be23-2e19fe941827"
      },
      "execution_count": 19,
      "outputs": [
        {
          "output_type": "execute_result",
          "data": {
            "text/plain": [
              "          count        mean        std    min     25%    50%     75%    max\n",
              "age       302.0   54.420530   9.047970   29.0   48.00   55.5   61.00   77.0\n",
              "sex       302.0    0.682119   0.466426    0.0    0.00    1.0    1.00    1.0\n",
              "cp        302.0    0.963576   1.032044    0.0    0.00    1.0    2.00    3.0\n",
              "trtbps    302.0  131.602649  17.563394   94.0  120.00  130.0  140.00  200.0\n",
              "chol      302.0  246.500000  51.753489  126.0  211.00  240.5  274.75  564.0\n",
              "fbs       302.0    0.149007   0.356686    0.0    0.00    0.0    0.00    1.0\n",
              "restecg   302.0    0.526490   0.526027    0.0    0.00    1.0    1.00    2.0\n",
              "thalachh  302.0  149.569536  22.903527   71.0  133.25  152.5  166.00  202.0\n",
              "exng      302.0    0.327815   0.470196    0.0    0.00    0.0    1.00    1.0\n",
              "oldpeak   302.0    1.043046   1.161452    0.0    0.00    0.8    1.60    6.2\n",
              "slp       302.0    1.397351   0.616274    0.0    1.00    1.0    2.00    2.0\n",
              "caa       302.0    0.718543   1.006748    0.0    0.00    0.0    1.00    4.0\n",
              "thall     302.0    2.314570   0.613026    0.0    2.00    2.0    3.00    3.0\n",
              "output    302.0    0.543046   0.498970    0.0    0.00    1.0    1.00    1.0"
            ],
            "text/html": [
              "\n",
              "  <div id=\"df-f3e1e3f8-fc1c-4d3c-a8b7-365d8142edca\" class=\"colab-df-container\">\n",
              "    <div>\n",
              "<style scoped>\n",
              "    .dataframe tbody tr th:only-of-type {\n",
              "        vertical-align: middle;\n",
              "    }\n",
              "\n",
              "    .dataframe tbody tr th {\n",
              "        vertical-align: top;\n",
              "    }\n",
              "\n",
              "    .dataframe thead th {\n",
              "        text-align: right;\n",
              "    }\n",
              "</style>\n",
              "<table border=\"1\" class=\"dataframe\">\n",
              "  <thead>\n",
              "    <tr style=\"text-align: right;\">\n",
              "      <th></th>\n",
              "      <th>count</th>\n",
              "      <th>mean</th>\n",
              "      <th>std</th>\n",
              "      <th>min</th>\n",
              "      <th>25%</th>\n",
              "      <th>50%</th>\n",
              "      <th>75%</th>\n",
              "      <th>max</th>\n",
              "    </tr>\n",
              "  </thead>\n",
              "  <tbody>\n",
              "    <tr>\n",
              "      <th>age</th>\n",
              "      <td>302.0</td>\n",
              "      <td>54.420530</td>\n",
              "      <td>9.047970</td>\n",
              "      <td>29.0</td>\n",
              "      <td>48.00</td>\n",
              "      <td>55.5</td>\n",
              "      <td>61.00</td>\n",
              "      <td>77.0</td>\n",
              "    </tr>\n",
              "    <tr>\n",
              "      <th>sex</th>\n",
              "      <td>302.0</td>\n",
              "      <td>0.682119</td>\n",
              "      <td>0.466426</td>\n",
              "      <td>0.0</td>\n",
              "      <td>0.00</td>\n",
              "      <td>1.0</td>\n",
              "      <td>1.00</td>\n",
              "      <td>1.0</td>\n",
              "    </tr>\n",
              "    <tr>\n",
              "      <th>cp</th>\n",
              "      <td>302.0</td>\n",
              "      <td>0.963576</td>\n",
              "      <td>1.032044</td>\n",
              "      <td>0.0</td>\n",
              "      <td>0.00</td>\n",
              "      <td>1.0</td>\n",
              "      <td>2.00</td>\n",
              "      <td>3.0</td>\n",
              "    </tr>\n",
              "    <tr>\n",
              "      <th>trtbps</th>\n",
              "      <td>302.0</td>\n",
              "      <td>131.602649</td>\n",
              "      <td>17.563394</td>\n",
              "      <td>94.0</td>\n",
              "      <td>120.00</td>\n",
              "      <td>130.0</td>\n",
              "      <td>140.00</td>\n",
              "      <td>200.0</td>\n",
              "    </tr>\n",
              "    <tr>\n",
              "      <th>chol</th>\n",
              "      <td>302.0</td>\n",
              "      <td>246.500000</td>\n",
              "      <td>51.753489</td>\n",
              "      <td>126.0</td>\n",
              "      <td>211.00</td>\n",
              "      <td>240.5</td>\n",
              "      <td>274.75</td>\n",
              "      <td>564.0</td>\n",
              "    </tr>\n",
              "    <tr>\n",
              "      <th>fbs</th>\n",
              "      <td>302.0</td>\n",
              "      <td>0.149007</td>\n",
              "      <td>0.356686</td>\n",
              "      <td>0.0</td>\n",
              "      <td>0.00</td>\n",
              "      <td>0.0</td>\n",
              "      <td>0.00</td>\n",
              "      <td>1.0</td>\n",
              "    </tr>\n",
              "    <tr>\n",
              "      <th>restecg</th>\n",
              "      <td>302.0</td>\n",
              "      <td>0.526490</td>\n",
              "      <td>0.526027</td>\n",
              "      <td>0.0</td>\n",
              "      <td>0.00</td>\n",
              "      <td>1.0</td>\n",
              "      <td>1.00</td>\n",
              "      <td>2.0</td>\n",
              "    </tr>\n",
              "    <tr>\n",
              "      <th>thalachh</th>\n",
              "      <td>302.0</td>\n",
              "      <td>149.569536</td>\n",
              "      <td>22.903527</td>\n",
              "      <td>71.0</td>\n",
              "      <td>133.25</td>\n",
              "      <td>152.5</td>\n",
              "      <td>166.00</td>\n",
              "      <td>202.0</td>\n",
              "    </tr>\n",
              "    <tr>\n",
              "      <th>exng</th>\n",
              "      <td>302.0</td>\n",
              "      <td>0.327815</td>\n",
              "      <td>0.470196</td>\n",
              "      <td>0.0</td>\n",
              "      <td>0.00</td>\n",
              "      <td>0.0</td>\n",
              "      <td>1.00</td>\n",
              "      <td>1.0</td>\n",
              "    </tr>\n",
              "    <tr>\n",
              "      <th>oldpeak</th>\n",
              "      <td>302.0</td>\n",
              "      <td>1.043046</td>\n",
              "      <td>1.161452</td>\n",
              "      <td>0.0</td>\n",
              "      <td>0.00</td>\n",
              "      <td>0.8</td>\n",
              "      <td>1.60</td>\n",
              "      <td>6.2</td>\n",
              "    </tr>\n",
              "    <tr>\n",
              "      <th>slp</th>\n",
              "      <td>302.0</td>\n",
              "      <td>1.397351</td>\n",
              "      <td>0.616274</td>\n",
              "      <td>0.0</td>\n",
              "      <td>1.00</td>\n",
              "      <td>1.0</td>\n",
              "      <td>2.00</td>\n",
              "      <td>2.0</td>\n",
              "    </tr>\n",
              "    <tr>\n",
              "      <th>caa</th>\n",
              "      <td>302.0</td>\n",
              "      <td>0.718543</td>\n",
              "      <td>1.006748</td>\n",
              "      <td>0.0</td>\n",
              "      <td>0.00</td>\n",
              "      <td>0.0</td>\n",
              "      <td>1.00</td>\n",
              "      <td>4.0</td>\n",
              "    </tr>\n",
              "    <tr>\n",
              "      <th>thall</th>\n",
              "      <td>302.0</td>\n",
              "      <td>2.314570</td>\n",
              "      <td>0.613026</td>\n",
              "      <td>0.0</td>\n",
              "      <td>2.00</td>\n",
              "      <td>2.0</td>\n",
              "      <td>3.00</td>\n",
              "      <td>3.0</td>\n",
              "    </tr>\n",
              "    <tr>\n",
              "      <th>output</th>\n",
              "      <td>302.0</td>\n",
              "      <td>0.543046</td>\n",
              "      <td>0.498970</td>\n",
              "      <td>0.0</td>\n",
              "      <td>0.00</td>\n",
              "      <td>1.0</td>\n",
              "      <td>1.00</td>\n",
              "      <td>1.0</td>\n",
              "    </tr>\n",
              "  </tbody>\n",
              "</table>\n",
              "</div>\n",
              "    <div class=\"colab-df-buttons\">\n",
              "\n",
              "  <div class=\"colab-df-container\">\n",
              "    <button class=\"colab-df-convert\" onclick=\"convertToInteractive('df-f3e1e3f8-fc1c-4d3c-a8b7-365d8142edca')\"\n",
              "            title=\"Convert this dataframe to an interactive table.\"\n",
              "            style=\"display:none;\">\n",
              "\n",
              "  <svg xmlns=\"http://www.w3.org/2000/svg\" height=\"24px\" viewBox=\"0 -960 960 960\">\n",
              "    <path d=\"M120-120v-720h720v720H120Zm60-500h600v-160H180v160Zm220 220h160v-160H400v160Zm0 220h160v-160H400v160ZM180-400h160v-160H180v160Zm440 0h160v-160H620v160ZM180-180h160v-160H180v160Zm440 0h160v-160H620v160Z\"/>\n",
              "  </svg>\n",
              "    </button>\n",
              "\n",
              "  <style>\n",
              "    .colab-df-container {\n",
              "      display:flex;\n",
              "      gap: 12px;\n",
              "    }\n",
              "\n",
              "    .colab-df-convert {\n",
              "      background-color: #E8F0FE;\n",
              "      border: none;\n",
              "      border-radius: 50%;\n",
              "      cursor: pointer;\n",
              "      display: none;\n",
              "      fill: #1967D2;\n",
              "      height: 32px;\n",
              "      padding: 0 0 0 0;\n",
              "      width: 32px;\n",
              "    }\n",
              "\n",
              "    .colab-df-convert:hover {\n",
              "      background-color: #E2EBFA;\n",
              "      box-shadow: 0px 1px 2px rgba(60, 64, 67, 0.3), 0px 1px 3px 1px rgba(60, 64, 67, 0.15);\n",
              "      fill: #174EA6;\n",
              "    }\n",
              "\n",
              "    .colab-df-buttons div {\n",
              "      margin-bottom: 4px;\n",
              "    }\n",
              "\n",
              "    [theme=dark] .colab-df-convert {\n",
              "      background-color: #3B4455;\n",
              "      fill: #D2E3FC;\n",
              "    }\n",
              "\n",
              "    [theme=dark] .colab-df-convert:hover {\n",
              "      background-color: #434B5C;\n",
              "      box-shadow: 0px 1px 3px 1px rgba(0, 0, 0, 0.15);\n",
              "      filter: drop-shadow(0px 1px 2px rgba(0, 0, 0, 0.3));\n",
              "      fill: #FFFFFF;\n",
              "    }\n",
              "  </style>\n",
              "\n",
              "    <script>\n",
              "      const buttonEl =\n",
              "        document.querySelector('#df-f3e1e3f8-fc1c-4d3c-a8b7-365d8142edca button.colab-df-convert');\n",
              "      buttonEl.style.display =\n",
              "        google.colab.kernel.accessAllowed ? 'block' : 'none';\n",
              "\n",
              "      async function convertToInteractive(key) {\n",
              "        const element = document.querySelector('#df-f3e1e3f8-fc1c-4d3c-a8b7-365d8142edca');\n",
              "        const dataTable =\n",
              "          await google.colab.kernel.invokeFunction('convertToInteractive',\n",
              "                                                    [key], {});\n",
              "        if (!dataTable) return;\n",
              "\n",
              "        const docLinkHtml = 'Like what you see? Visit the ' +\n",
              "          '<a target=\"_blank\" href=https://colab.research.google.com/notebooks/data_table.ipynb>data table notebook</a>'\n",
              "          + ' to learn more about interactive tables.';\n",
              "        element.innerHTML = '';\n",
              "        dataTable['output_type'] = 'display_data';\n",
              "        await google.colab.output.renderOutput(dataTable, element);\n",
              "        const docLink = document.createElement('div');\n",
              "        docLink.innerHTML = docLinkHtml;\n",
              "        element.appendChild(docLink);\n",
              "      }\n",
              "    </script>\n",
              "  </div>\n",
              "\n",
              "\n",
              "<div id=\"df-1ec97c57-3321-4980-b3ea-e688a0af5cdf\">\n",
              "  <button class=\"colab-df-quickchart\" onclick=\"quickchart('df-1ec97c57-3321-4980-b3ea-e688a0af5cdf')\"\n",
              "            title=\"Suggest charts\"\n",
              "            style=\"display:none;\">\n",
              "\n",
              "<svg xmlns=\"http://www.w3.org/2000/svg\" height=\"24px\"viewBox=\"0 0 24 24\"\n",
              "     width=\"24px\">\n",
              "    <g>\n",
              "        <path d=\"M19 3H5c-1.1 0-2 .9-2 2v14c0 1.1.9 2 2 2h14c1.1 0 2-.9 2-2V5c0-1.1-.9-2-2-2zM9 17H7v-7h2v7zm4 0h-2V7h2v10zm4 0h-2v-4h2v4z\"/>\n",
              "    </g>\n",
              "</svg>\n",
              "  </button>\n",
              "\n",
              "<style>\n",
              "  .colab-df-quickchart {\n",
              "      --bg-color: #E8F0FE;\n",
              "      --fill-color: #1967D2;\n",
              "      --hover-bg-color: #E2EBFA;\n",
              "      --hover-fill-color: #174EA6;\n",
              "      --disabled-fill-color: #AAA;\n",
              "      --disabled-bg-color: #DDD;\n",
              "  }\n",
              "\n",
              "  [theme=dark] .colab-df-quickchart {\n",
              "      --bg-color: #3B4455;\n",
              "      --fill-color: #D2E3FC;\n",
              "      --hover-bg-color: #434B5C;\n",
              "      --hover-fill-color: #FFFFFF;\n",
              "      --disabled-bg-color: #3B4455;\n",
              "      --disabled-fill-color: #666;\n",
              "  }\n",
              "\n",
              "  .colab-df-quickchart {\n",
              "    background-color: var(--bg-color);\n",
              "    border: none;\n",
              "    border-radius: 50%;\n",
              "    cursor: pointer;\n",
              "    display: none;\n",
              "    fill: var(--fill-color);\n",
              "    height: 32px;\n",
              "    padding: 0;\n",
              "    width: 32px;\n",
              "  }\n",
              "\n",
              "  .colab-df-quickchart:hover {\n",
              "    background-color: var(--hover-bg-color);\n",
              "    box-shadow: 0 1px 2px rgba(60, 64, 67, 0.3), 0 1px 3px 1px rgba(60, 64, 67, 0.15);\n",
              "    fill: var(--button-hover-fill-color);\n",
              "  }\n",
              "\n",
              "  .colab-df-quickchart-complete:disabled,\n",
              "  .colab-df-quickchart-complete:disabled:hover {\n",
              "    background-color: var(--disabled-bg-color);\n",
              "    fill: var(--disabled-fill-color);\n",
              "    box-shadow: none;\n",
              "  }\n",
              "\n",
              "  .colab-df-spinner {\n",
              "    border: 2px solid var(--fill-color);\n",
              "    border-color: transparent;\n",
              "    border-bottom-color: var(--fill-color);\n",
              "    animation:\n",
              "      spin 1s steps(1) infinite;\n",
              "  }\n",
              "\n",
              "  @keyframes spin {\n",
              "    0% {\n",
              "      border-color: transparent;\n",
              "      border-bottom-color: var(--fill-color);\n",
              "      border-left-color: var(--fill-color);\n",
              "    }\n",
              "    20% {\n",
              "      border-color: transparent;\n",
              "      border-left-color: var(--fill-color);\n",
              "      border-top-color: var(--fill-color);\n",
              "    }\n",
              "    30% {\n",
              "      border-color: transparent;\n",
              "      border-left-color: var(--fill-color);\n",
              "      border-top-color: var(--fill-color);\n",
              "      border-right-color: var(--fill-color);\n",
              "    }\n",
              "    40% {\n",
              "      border-color: transparent;\n",
              "      border-right-color: var(--fill-color);\n",
              "      border-top-color: var(--fill-color);\n",
              "    }\n",
              "    60% {\n",
              "      border-color: transparent;\n",
              "      border-right-color: var(--fill-color);\n",
              "    }\n",
              "    80% {\n",
              "      border-color: transparent;\n",
              "      border-right-color: var(--fill-color);\n",
              "      border-bottom-color: var(--fill-color);\n",
              "    }\n",
              "    90% {\n",
              "      border-color: transparent;\n",
              "      border-bottom-color: var(--fill-color);\n",
              "    }\n",
              "  }\n",
              "</style>\n",
              "\n",
              "  <script>\n",
              "    async function quickchart(key) {\n",
              "      const quickchartButtonEl =\n",
              "        document.querySelector('#' + key + ' button');\n",
              "      quickchartButtonEl.disabled = true;  // To prevent multiple clicks.\n",
              "      quickchartButtonEl.classList.add('colab-df-spinner');\n",
              "      try {\n",
              "        const charts = await google.colab.kernel.invokeFunction(\n",
              "            'suggestCharts', [key], {});\n",
              "      } catch (error) {\n",
              "        console.error('Error during call to suggestCharts:', error);\n",
              "      }\n",
              "      quickchartButtonEl.classList.remove('colab-df-spinner');\n",
              "      quickchartButtonEl.classList.add('colab-df-quickchart-complete');\n",
              "    }\n",
              "    (() => {\n",
              "      let quickchartButtonEl =\n",
              "        document.querySelector('#df-1ec97c57-3321-4980-b3ea-e688a0af5cdf button');\n",
              "      quickchartButtonEl.style.display =\n",
              "        google.colab.kernel.accessAllowed ? 'block' : 'none';\n",
              "    })();\n",
              "  </script>\n",
              "</div>\n",
              "\n",
              "    </div>\n",
              "  </div>\n"
            ],
            "application/vnd.google.colaboratory.intrinsic+json": {
              "type": "dataframe",
              "summary": "{\n  \"name\": \"heart_data\",\n  \"rows\": 14,\n  \"fields\": [\n    {\n      \"column\": \"count\",\n      \"properties\": {\n        \"dtype\": \"number\",\n        \"std\": 0.0,\n        \"min\": 302.0,\n        \"max\": 302.0,\n        \"num_unique_values\": 1,\n        \"samples\": [\n          302.0\n        ],\n        \"semantic_type\": \"\",\n        \"description\": \"\"\n      }\n    },\n    {\n      \"column\": \"mean\",\n      \"properties\": {\n        \"dtype\": \"number\",\n        \"std\": 77.70601318653827,\n        \"min\": 0.1490066225165563,\n        \"max\": 246.5,\n        \"num_unique_values\": 14,\n        \"samples\": [\n          1.0430463576158941\n        ],\n        \"semantic_type\": \"\",\n        \"description\": \"\"\n      }\n    },\n    {\n      \"column\": \"std\",\n      \"properties\": {\n        \"dtype\": \"number\",\n        \"std\": 14.584541915767094,\n        \"min\": 0.3566860293648133,\n        \"max\": 51.75348865574056,\n        \"num_unique_values\": 14,\n        \"samples\": [\n          1.1614522890634564\n        ],\n        \"semantic_type\": \"\",\n        \"description\": \"\"\n      }\n    },\n    {\n      \"column\": \"min\",\n      \"properties\": {\n        \"dtype\": \"number\",\n        \"std\": 42.31722170402085,\n        \"min\": 0.0,\n        \"max\": 126.0,\n        \"num_unique_values\": 5,\n        \"samples\": [\n          0.0\n        ],\n        \"semantic_type\": \"\",\n        \"description\": \"\"\n      }\n    },\n    {\n      \"column\": \"25%\",\n      \"properties\": {\n        \"dtype\": \"number\",\n        \"std\": 67.9493716059858,\n        \"min\": 0.0,\n        \"max\": 211.0,\n        \"num_unique_values\": 7,\n        \"samples\": [\n          48.0\n        ],\n        \"semantic_type\": \"\",\n        \"description\": \"\"\n      }\n    },\n    {\n      \"column\": \"50%\",\n      \"properties\": {\n        \"dtype\": \"number\",\n        \"std\": 76.72778233741401,\n        \"min\": 0.0,\n        \"max\": 240.5,\n        \"num_unique_values\": 8,\n        \"samples\": [\n          1.0\n        ],\n        \"semantic_type\": \"\",\n        \"description\": \"\"\n      }\n    },\n    {\n      \"column\": \"75%\",\n      \"properties\": {\n        \"dtype\": \"number\",\n        \"std\": 85.80466227823125,\n        \"min\": 0.0,\n        \"max\": 274.75,\n        \"num_unique_values\": 9,\n        \"samples\": [\n          1.6\n        ],\n        \"semantic_type\": \"\",\n        \"description\": \"\"\n      }\n    },\n    {\n      \"column\": \"max\",\n      \"properties\": {\n        \"dtype\": \"number\",\n        \"std\": 157.76377388883787,\n        \"min\": 1.0,\n        \"max\": 564.0,\n        \"num_unique_values\": 9,\n        \"samples\": [\n          6.2\n        ],\n        \"semantic_type\": \"\",\n        \"description\": \"\"\n      }\n    }\n  ]\n}"
            }
          },
          "metadata": {},
          "execution_count": 19
        }
      ]
    },
    {
      "cell_type": "markdown",
      "source": [
        "**Correlation HeatMap**:\n",
        "\n",
        " To Identify & Understand the relationship between the Input Features and Target Variable (Cardio)"
      ],
      "metadata": {
        "id": "7MLMBLjXoXRI"
      }
    },
    {
      "cell_type": "code",
      "source": [
        "corr = heart_data.corr()\n",
        "plt.figure(figsize=(15, 15))\n",
        "sns.heatmap(corr, annot=True)\n",
        "plt.show()"
      ],
      "metadata": {
        "colab": {
          "base_uri": "https://localhost:8080/",
          "height": 729
        },
        "id": "2I6rOn0DocD4",
        "outputId": "f1284bc4-deeb-4dcb-b4e2-da6f8d68c11a"
      },
      "execution_count": 21,
      "outputs": [
        {
          "output_type": "display_data",
          "data": {
            "text/plain": [
              "<Figure size 1500x1500 with 2 Axes>"
            ],
            "image/png": "[encoded data removed]"
          },
          "metadata": {}
        }
      ]
    },
    {
      "cell_type": "markdown",
      "source": [
        "# **Splitting & Normalizing of the Data**"
      ],
      "metadata": {
        "id": "J8u5kmkMoljr"
      }
    },
    {
      "cell_type": "code",
      "source": [
        "X = heart_data.drop(['output'], axis=1)\n",
        "y = heart_data['output']"
      ],
      "metadata": {
        "id": "WZ6TCVgooqPO"
      },
      "execution_count": 24,
      "outputs": []
    },
    {
      "cell_type": "code",
      "source": [
        "X_train, X_test, y_train, y_test = train_test_split(X, y, test_size=0.2, random_state=5)\n"
      ],
      "metadata": {
        "id": "zXmmeDP_o_tb"
      },
      "execution_count": 25,
      "outputs": []
    },
    {
      "cell_type": "code",
      "source": [
        "scaler = MinMaxScaler()\n",
        "X_train = scaler.fit_transform(X_train)\n",
        "X_test = scaler.transform(X_test)"
      ],
      "metadata": {
        "id": "JtUxZp8SpK3Q"
      },
      "execution_count": 26,
      "outputs": []
    },
    {
      "cell_type": "markdown",
      "source": [
        "# **Evaluation & Modelling**"
      ],
      "metadata": {
        "id": "LZRbYv80pNJb"
      }
    },
    {
      "cell_type": "code",
      "source": [
        "from sklearn.metrics import accuracy_score, precision_score, recall_score, f1_score\n",
        "\n"
      ],
      "metadata": {
        "id": "0QnZPd8QqyiM"
      },
      "execution_count": 35,
      "outputs": []
    },
    {
      "cell_type": "markdown",
      "source": [
        "## **KNN**"
      ],
      "metadata": {
        "id": "kkwprXLopZ4_"
      }
    },
    {
      "cell_type": "code",
      "source": [
        "model = KNeighborsClassifier(n_neighbors=100)\n",
        "model.fit(X_train, y_train)\n",
        "model.score(X_test, y_test)"
      ],
      "metadata": {
        "colab": {
          "base_uri": "https://localhost:8080/"
        },
        "id": "uPzcrakOpW4U",
        "outputId": "e64d4ae8-9915-4dbe-b0cc-41bdd3a0322b"
      },
      "execution_count": 88,
      "outputs": [
        {
          "output_type": "execute_result",
          "data": {
            "text/plain": [
              "0.7540983606557377"
            ]
          },
          "metadata": {},
          "execution_count": 88
        }
      ]
    },
    {
      "cell_type": "code",
      "source": [
        "#accuracy\n",
        "X_train_prediction = model.predict(X_train)\n",
        "training_data_accuracy = accuracy_score(X_train_prediction, y_train)\n",
        "print('Accuracy on training data:', training_data_accuracy)"
      ],
      "metadata": {
        "colab": {
          "base_uri": "https://localhost:8080/"
        },
        "id": "Y_6HkYn3qsoQ",
        "outputId": "2616947c-5b3a-4951-9099-7983756a4d05"
      },
      "execution_count": 97,
      "outputs": [
        {
          "output_type": "stream",
          "name": "stdout",
          "text": [
            "Accuracy on training data: 0.7676348547717843\n"
          ]
        }
      ]
    },
    {
      "cell_type": "code",
      "source": [
        "#accuracy on test data\n",
        "X_test_prediction = model.predict(X_test)\n",
        "test_data_accuracy = accuracy_score(X_test_prediction, y_test)\n",
        "\n",
        "print('Accuracy on test data:', test_data_accuracy)"
      ],
      "metadata": {
        "colab": {
          "base_uri": "https://localhost:8080/"
        },
        "id": "yDseZMhSrc5u",
        "outputId": "89deadee-1dc8-499f-e97e-cd834cfaba26"
      },
      "execution_count": 96,
      "outputs": [
        {
          "output_type": "stream",
          "name": "stdout",
          "text": [
            "Accuracy on test data: 0.7540983606557377\n"
          ]
        }
      ]
    },
    {
      "cell_type": "code",
      "source": [
        "#other metrics\n",
        "precision = precision_score(y_test, X_test_prediction)\n",
        "recall = recall_score(y_test, X_test_prediction)\n",
        "f1 = f1_score(y_test, X_test_prediction)\n",
        "\n",
        "print('Precision:', precision)\n",
        "print('Recall:', recall)\n",
        "print('F1 Score:', f1)"
      ],
      "metadata": {
        "colab": {
          "base_uri": "https://localhost:8080/"
        },
        "id": "rras7r4yrhWB",
        "outputId": "1bebef1b-0232-4098-de2a-e86d81fc5d4b"
      },
      "execution_count": 95,
      "outputs": [
        {
          "output_type": "stream",
          "name": "stdout",
          "text": [
            "Precision: 0.6764705882352942\n",
            "Recall: 0.8518518518518519\n",
            "F1 Score: 0.7540983606557377\n"
          ]
        }
      ]
    },
    {
      "cell_type": "markdown",
      "source": [
        "## **SVC**"
      ],
      "metadata": {
        "id": "iZ_WlySBpdDK"
      }
    },
    {
      "cell_type": "code",
      "source": [
        "model_2 = SVC(random_state=42)\n",
        "model_2.fit(X_train, y_train)\n",
        "model_2.score(X_test, y_test)"
      ],
      "metadata": {
        "colab": {
          "base_uri": "https://localhost:8080/"
        },
        "id": "6ZEM9qYwphOo",
        "outputId": "a91a6ddb-b1d3-47b2-e26f-833194bb305d"
      },
      "execution_count": 98,
      "outputs": [
        {
          "output_type": "execute_result",
          "data": {
            "text/plain": [
              "0.819672131147541"
            ]
          },
          "metadata": {},
          "execution_count": 98
        }
      ]
    },
    {
      "cell_type": "code",
      "source": [
        "#accuracy\n",
        "X_train_prediction_2 = model_2.predict(X_train)\n",
        "training_data_accuracy_2 = accuracy_score(X_train_prediction_2, y_train)\n",
        "\n",
        "print('Accuracy on training data:', training_data_accuracy_2)"
      ],
      "metadata": {
        "colab": {
          "base_uri": "https://localhost:8080/"
        },
        "id": "7q4NF1oOsF8z",
        "outputId": "31b336c4-29d7-4768-b2ff-0f253f42547b"
      },
      "execution_count": 99,
      "outputs": [
        {
          "output_type": "stream",
          "name": "stdout",
          "text": [
            "Accuracy on training data: 0.8921161825726142\n"
          ]
        }
      ]
    },
    {
      "cell_type": "code",
      "source": [
        "#accuracy on test data\n",
        "X_test_prediction_2 = model_2.predict(X_test)\n",
        "test_data_accuracy_2 = accuracy_score(X_test_prediction_2, y_test)\n",
        "\n",
        "print('Accuracy on test data:', test_data_accuracy_2)"
      ],
      "metadata": {
        "colab": {
          "base_uri": "https://localhost:8080/"
        },
        "id": "NqWIQIRXsF80",
        "outputId": "ea9e285b-b9e1-4524-93d6-2f08415125bb"
      },
      "execution_count": 100,
      "outputs": [
        {
          "output_type": "stream",
          "name": "stdout",
          "text": [
            "Accuracy on test data: 0.819672131147541\n"
          ]
        }
      ]
    },
    {
      "cell_type": "code",
      "source": [
        "#other metrics\n",
        "precision = precision_score(y_test, X_test_prediction_2)\n",
        "recall = recall_score(y_test, X_test_prediction_2)\n",
        "f1 = f1_score(y_test, X_test_prediction_2)\n",
        "\n",
        "print('Precision:', precision)\n",
        "print('Recall:', recall)\n",
        "print('F1 Score:', f1)"
      ],
      "metadata": {
        "colab": {
          "base_uri": "https://localhost:8080/"
        },
        "id": "3MmaxVmQsF80",
        "outputId": "3486f056-47f9-4a76-d09c-9dc557805b1d"
      },
      "execution_count": 101,
      "outputs": [
        {
          "output_type": "stream",
          "name": "stdout",
          "text": [
            "Precision: 0.75\n",
            "Recall: 0.8888888888888888\n",
            "F1 Score: 0.8135593220338984\n"
          ]
        }
      ]
    },
    {
      "cell_type": "markdown",
      "source": [
        "# **RandomForest**"
      ],
      "metadata": {
        "id": "Qz3HiEVOpm1q"
      }
    },
    {
      "cell_type": "code",
      "source": [
        "model_3 = RandomForestClassifier(n_estimators=300, max_depth=10, random_state=1,criterion='entropy')\n",
        "model_3.fit(X_train, y_train)\n",
        "model_3.score(X_test, y_test)"
      ],
      "metadata": {
        "colab": {
          "base_uri": "https://localhost:8080/"
        },
        "id": "U-bb_tVrppqb",
        "outputId": "f818d7bb-d8df-48a1-87bb-3d7f8a591d7f"
      },
      "execution_count": 102,
      "outputs": [
        {
          "output_type": "execute_result",
          "data": {
            "text/plain": [
              "0.8524590163934426"
            ]
          },
          "metadata": {},
          "execution_count": 102
        }
      ]
    },
    {
      "cell_type": "markdown",
      "source": [],
      "metadata": {
        "id": "yqAgCaT6wiYc"
      }
    },
    {
      "cell_type": "code",
      "source": [
        "#accuracy\n",
        "X_train_prediction_3 = model_3.predict(X_train)\n",
        "training_data_accuracy_3 = accuracy_score(X_train_prediction_3, y_train)\n",
        "\n",
        "print('Accuracy on training data:', training_data_accuracy_3)"
      ],
      "metadata": {
        "colab": {
          "base_uri": "https://localhost:8080/"
        },
        "id": "ZpwUTDMMtgse",
        "outputId": "36d27de4-a2c3-432f-eb2e-9b7a60d46057"
      },
      "execution_count": 103,
      "outputs": [
        {
          "output_type": "stream",
          "name": "stdout",
          "text": [
            "Accuracy on training data: 1.0\n"
          ]
        }
      ]
    },
    {
      "cell_type": "code",
      "source": [
        "#accuracy on test data\n",
        "X_test_prediction_3 = model_3.predict(X_test)\n",
        "test_data_accuracy_3 = accuracy_score(X_test_prediction_3, y_test)\n",
        "\n",
        "print('Accuracy on test data:', test_data_accuracy_3)"
      ],
      "metadata": {
        "colab": {
          "base_uri": "https://localhost:8080/"
        },
        "id": "gQf_ax5btgse",
        "outputId": "4b6256ba-e3d7-40db-873d-dcd958e3eb58"
      },
      "execution_count": 104,
      "outputs": [
        {
          "output_type": "stream",
          "name": "stdout",
          "text": [
            "Accuracy on test data: 0.8524590163934426\n"
          ]
        }
      ]
    },
    {
      "cell_type": "code",
      "source": [
        "# other metrics\n",
        "\n",
        "precision = precision_score(y_test, X_test_prediction_3)\n",
        "recall = recall_score(y_test, X_test_prediction_3)\n",
        "f1 = f1_score(y_test, X_test_prediction_3)\n",
        "\n",
        "print('Precision:', precision)\n",
        "print('Recall:', recall)\n",
        "print('F1 Score:', f1)"
      ],
      "metadata": {
        "colab": {
          "base_uri": "https://localhost:8080/"
        },
        "id": "W2AJvxL0tgsf",
        "outputId": "0e9ba624-5d2b-4363-d974-0929ce243d9e"
      },
      "execution_count": 105,
      "outputs": [
        {
          "output_type": "stream",
          "name": "stdout",
          "text": [
            "Precision: 0.8\n",
            "Recall: 0.8888888888888888\n",
            "F1 Score: 0.8421052631578947\n"
          ]
        }
      ]
    },
    {
      "cell_type": "markdown",
      "source": [
        "# **Logistic Regression**"
      ],
      "metadata": {
        "id": "EkQLX3TYpwY8"
      }
    },
    {
      "cell_type": "code",
      "source": [
        "model_4 = LogisticRegression()\n",
        "model_4.fit(X_train,y_train)\n",
        "model_4.score(X_test,y_test)"
      ],
      "metadata": {
        "colab": {
          "base_uri": "https://localhost:8080/"
        },
        "id": "eNGNXKgYptvt",
        "outputId": "1f57886b-a9f7-4936-af25-563541e48cd5"
      },
      "execution_count": 106,
      "outputs": [
        {
          "output_type": "execute_result",
          "data": {
            "text/plain": [
              "0.819672131147541"
            ]
          },
          "metadata": {},
          "execution_count": 106
        }
      ]
    },
    {
      "cell_type": "code",
      "source": [
        "#accuracy\n",
        "X_train_prediction_4 = model_4.predict(X_train)\n",
        "training_data_accuracy_4 = accuracy_score(X_train_prediction_4, y_train)\n",
        "\n",
        "print('Accuracy on training data:', training_data_accuracy_4)"
      ],
      "metadata": {
        "colab": {
          "base_uri": "https://localhost:8080/"
        },
        "id": "lTMCngyzutpG",
        "outputId": "e145c9f1-426f-4c3a-d378-b7d6c84b4bd0"
      },
      "execution_count": 107,
      "outputs": [
        {
          "output_type": "stream",
          "name": "stdout",
          "text": [
            "Accuracy on training data: 0.8464730290456431\n"
          ]
        }
      ]
    },
    {
      "cell_type": "code",
      "source": [
        "#accuracy on test data\n",
        "X_test_prediction_4 = model_4.predict(X_test)\n",
        "test_data_accuracy_4 = accuracy_score(X_test_prediction_4, y_test)\n",
        "\n",
        "print('Accuracy on test data:', test_data_accuracy_4)"
      ],
      "metadata": {
        "colab": {
          "base_uri": "https://localhost:8080/"
        },
        "id": "hg3X1CyUutpM",
        "outputId": "7ec53bb4-59f6-4b21-cfa9-b696a58dff91"
      },
      "execution_count": 108,
      "outputs": [
        {
          "output_type": "stream",
          "name": "stdout",
          "text": [
            "Accuracy on test data: 0.819672131147541\n"
          ]
        }
      ]
    },
    {
      "cell_type": "code",
      "source": [
        "# other metrics\n",
        "\n",
        "precision = precision_score(y_test, X_test_prediction_4)\n",
        "recall = recall_score(y_test, X_test_prediction_4)\n",
        "f1 = f1_score(y_test, X_test_prediction_4)\n",
        "\n",
        "print('Precision:', precision)\n",
        "print('Recall:', recall)\n",
        "print('F1 Score:', f1)"
      ],
      "metadata": {
        "colab": {
          "base_uri": "https://localhost:8080/"
        },
        "id": "cUf85n5CutpM",
        "outputId": "3c7d341b-6f6e-479f-945f-f73b29d61590"
      },
      "execution_count": 109,
      "outputs": [
        {
          "output_type": "stream",
          "name": "stdout",
          "text": [
            "Precision: 0.75\n",
            "Recall: 0.8888888888888888\n",
            "F1 Score: 0.8135593220338984\n"
          ]
        }
      ]
    },
    {
      "cell_type": "markdown",
      "source": [
        "# **Results & Discussions**"
      ],
      "metadata": {
        "id": "obJxbZtpwLGX"
      }
    },
    {
      "cell_type": "code",
      "source": [],
      "metadata": {
        "id": "Cs97Qth9wVUB"
      },
      "execution_count": null,
      "outputs": []
    },
    {
      "cell_type": "markdown",
      "source": [
        "![Screenshot 2024-12-15 155120.png](data:image/png;base64,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)"
      ],
      "metadata": {
        "id": "gh0B6kxI17aA"
      }
    },
    {
      "cell_type": "markdown",
      "source": [
        "![chartt.png](data:image/png;base64,iVBORw0KGgoAAAANSUhEUgAAAu0AAAHBCAYAAADdOIW3AAAAAXNSR0IArs4c6QAAAARnQU1BAACxjwv8YQUAAAAJcEhZcwAAEnQAABJ0Ad5mH3gAADAwSURBVHhe7d1Bi1zZeTfw+Up+P4N5v4PGspFB48Sg8cIDIZrgWcSLhGjkRSDgRYINGpHMCEySVSALyY4ESfDCizCyR4GESTYynvHIOB7pnW7Vy2nlNKdPn3urqvvU6ft0/X7wJ+mqW7du3Uea++/r063XfvGLX6xERERERGS5ea1+QERERERElpWj0g4AACyX0g4AAAuntAMAwMIp7QAAsHBKOwAALJzSDgAAC6e0AwDAwintAACwcEo7AAAsnNIOAAALp7QDAMDCKe0AALBwSjsAACyc0g4AAAuntAMAwMIp7QAAsHBKOwAALJzSDgAAC6e0AwDAwintAACwcEo7AAAsnNIOAAALp7QDMOtXv/rV6rvf/e7qypUrq6tXr64++uijepON9dwXwD5R2gGYdf/+/dXrr79+VLRTbt++vXr58mW92UZ67gtgnyjtQEiffvrp6h//8R9X77zzznEBTPnjP/7j1b/+67/Wm3MOPYt2z30B7BOlHQgnFb+yqLdy8+bN1eeff16/lDN4+vTp6o033jg6r+dd0tJzXwD7RGkHQrlz586pgj6Ve/fu1S8HgJCUdiCM1h32999/f/X8+fPjbf7t3/7taImM0g7AZaK0AyG8ePFi9eabb54o7I8ePao3O3JwcHB0R75V2tNvL/nBD36wun79+ol9za2FT6/J752X3eT95NenpR7f//73j5fkpGNIa+7L90nv8fHHH9e7b+4/rdn/67/+641en0yt8U/H9Rd/8Rer//qv/6pfsnry5MnxUpW0tvyLL7442kf5WFpvXi9p+elPf3piP+mz/uxnP1v90R/90Yn3Tsf7L//yLye2XbevLJ2TH/7wh8051fvM6vP42WefHe+nXEefzsfUeQRYKqUdCOHx48cnylsqlNtIxTKV4HIfrfzBH/zBUdkrlUXz2rVrq7/927899bry9f/+7/9+fLe/Tmsdd73/f/7nfz7+uk56/cOHDydfP5f6demc5jKbSu5f/uVfntg+fwNRblfvJ53Xd99999R75dSfd25feX9/8zd/c2KbVjaZ049//OPJ81IfF8DSKe1ACPVa9qm77FPq18+l/iHWTUvxpjnv/lMhLQtrXYSnsu3rNint9W+DaaXcfm5fyXvvvbd2fznnPY9+cw0QidIOLF66+3rr1q3jspXukqalHZuqy1x6fbkUJi2VqJfelGWyfn1KKox5iUWruKb3SHd6k3LZRn6uvMvb2n+6k5z3X78+pVz6k17/zW9+82jZx3/+538eP57OWyrBU+9bF+iUVGRTEU6v/eUvf9ncLp+b+i57vTwoL5nZtLTX5yEdb7kU5ixzKs9j+nmH8vn6mxiAJVPagcWr17NvW7bKH2Cti2tWF77yLmz9XH2Hty6vdZlMymJfH8O6/Sd12d30LnG977kC3Xrf1nZTpT0X/jlT+0oePHgweY6y+vNsM6dkk/cAWCKlHVi885T2+i59q8jl7coCWm5Xl8HWD7iWy29a7zFXVjfZf30OWu+R7iT/yZ/8yakf3iwzV9rrbzSyue3q5SypCM/9oOfUvubOf2luu/o8fvDBB6e+sSnfX2kHIlHagcWri/c2y2Pq187doZ4q3nUZbJXqqddmU2U12WT/dVktv3Gpn5tL79Kevpn47ne/e+p9UtLSlLoUT+2r/gxzcyq/UZibk9IOXCZKO7B4dfFO2fQHUevXzpXBqeJdl8FWqZ56bTZVVpNN9l+X2vI9ynXr69K7tCfp2MpfFVlnk/esP9/cnJR2YB8p7UAI9T+stOmvfKxLe6tQ5+2mSnFdBluletelfWp5TP14ugNfLk2p971Jga5tul3y3//936s//dM/Pd62PNZkal9z5780t139WZV24DJR2oEQ6kKWsund9rJQTxW1ev/1b2eZei7rWdo3eX2+E12X9rqo1vvedWnPyh+8LZfyzO2rvIO+6ZzKzzv3XKa0A1Ep7UAY9e9aT6Xr7/7u71bPnz8/3ib9y6DpBzLTP26Uy3VdFNNa6/JfCK1/FWBd5uoyuOvSno8x3zFvPZ9fX5f28r3rz1W/79wxlaa2y3e90w+e/sd//Mfx9unxv/qrvzreftPSXj9XnoOk/jzr5qS0A5eJ0g6EURfUdcl3o+slMutSl/K6DNbPJ71L+1zq/V/UmvZN51GuT5/aV1IvfVmXupTX57F+PlHagaiUdiCU9A8NpbvodYFrpSzXc7/lpEz6B4LqoleXwV2X9nfeeWfy1zbWa9Zbry+Timm5r56lfZOSne6Wz/0rrPV79pyT0g5cJko7EFL6gccf/OAHp8rtW2+9tfrzP//zo3/xtFw2k+XfZV6+Jv9u8XLJTKn+F0nzv3Ra+od/+IfjMtgq7elXVOZCmd7vpz/96fFzddlM3xSk90yfrzzG8l8crdXbp6RvblLBL7+hKEvy3DGVyuOrt0vv+8Mf/nD19ttvn3rv9K+Z1jOY21cpzan+gdY8p/qblqw1p7q0159ZaQeiUNoBLlirtANASWkHuGBKOwDrKO0AF0xpB2AdpR3ggintAKyjtANcsPpXJ7Z+0BWA/aa0AwDAwintAACwcEo7AAAsnNIOAAALp7QDAMDCKe0AALBwSjsAACyc0g4AAAuntAMAwMIp7QAAsHBKOwAALJzSDgAAC6e0AwDAwintAACwcEo7AAAsnNIOAAALp7QDAMDCKe0AALBwSjsAACyc0g4AAAuntAMAwMIp7QAAsHBKOwAALJzSDgAAC6e0AwDAwintAACwcEo7AAAsnNIOAAALp7QDAMDCKe2EkP6c+rMaj7nFZG5xmV1MH3300dHcXr58WT/Fgo2em9JOCC5EMZlbTOYWl9nFNLr80cfouSnthOBCFJO5xWRucZldTKPLH32MnpvSTgguRDGZW0zmFpfZxTS6/NHH6Lkp7YTgQhSTucVkbnGZXUyjyx99jJ6b0k4ILkQxmVtM5haX2cU0uvzRx+i5Ke2E4EIUk7nFZG5xmV1Mo8sffYyem9JOCC5EMZlbTOYWl9nFNLr80cfouSnthOBCFJO5xWRucZldTKPLH32MnpvSTgjHF6IHr4mIiOxPXn5RXxJZCKUdGpR2ERHZyyjti6W0Q4PSLiIiexmlfbGUdmhQ2kVEZC+jtC+W0g4NSruIiOxllPbFUtqhQWkXEZG9jNK+WEo7NCjtIiKyl1HaF0tphwalXURE9jJK+2Ip7dCgtIuIyF5GaV8spR0acmm/e/euiIiIXHAODw/rS/XeUdqhQWkXERFZTpR2pb3p4OBgdevWrdXNmzdXz58/r5/eWK/9XEZLPzdKu4iIyHKitAcr7Y8fP15dvXp19eTJk/qprnoVyrPs5/79+6srV66cyqNHj+pNQzvLuRlJaRcREVlOlHalvYuex5VKe72vXOQvW3FfMqVdRERkOVHalfYueh5Xq7S/ePFidePGjdXt27dPbMvuKO0iIiLLidJ+CUv706dPV9evX1+7tOTOnTunlqCk3Lt3r7l0Iz+Wt7t27drq008/PfFYTi7Xrf0k6XO0tk+2Ke1z+8nmPmeS3i99lvR++bzl55J179E6L8+ePdv4ufrcbDK/dMzpdb/5zW+Ozkv9mXpQ2kVERJYTpf2SlfZcMFulsyx+qciWBbIuynWhzF+XhTXtN389dVz1fvK2rePJX9fHkp+vH6v3k8tu+dnXfc78WNpP/Xiy7j3mzsvcc+VrW+dm3fzyMdefrd7uPJR2ERGR5URpv0SlvVUSs1RecznMd63LYlg/VhfK+vna1HHV+5k7xqz1g6j13eip/eS75qnIto659Vh+v/qznfU9srnnkm3OTTm/pPXNx7r325bSLiIispwo7ZeotNd3gUtlyWuVu/qxqULZKrfJ1HHV+5k7xqwupK07yHk/9V3l8jjqz5S0HqvfL9vkPebOy9xz5fObnJv6GMtvHLK50n8WSruIiMhyorRfwtJel8ykft26ZSN1oczK9eHl6+v9Z/V+5o4xmzqW8v1a675ztvmcU48lm75HMnVe5p7b5tzU53dkaf/kO18SERHZeVaHB/WlaGdGlz/6GD23nZf2dXdqyzvAUyW0LpS1/F65OE4dV72fuWPMWiW6Xtc9V3CzTT5n0nq/ZJP3qNXnZe65bc5NfYxKu4iIXLYo7awzem47K+1zpa1cE53K4e///u8395HVhbKlPJap46r3M/VbYEp1QU3q17WWudQ2+ZxJ6/2STd6jZepc1M/V52bT+SVKu4iIXLYo7awzem47K+1JKnPlHempx6Z+DWLepi6U6X3L0lg/P3WXuN4umTqe/NqpEt1a6lLvpz7OdZ8z76f1fvm5evvyPer3Kz/vz372s8nnypK+7txMPaa0i4jIZYrSzjqj53bu0l4X0JSy+NXb1IV06g5yWV7nCmXrPevn536tYb1tuX1+rj7mJH+u8rjrz1q+zyafs/V1be49kvqzbHrOps5N/X6tY1PaRUTkskVpZ53RcztXae+hVfiSs6zhXrJ9+Zy7orSLiMjIKO2sM3puF17a853csrTmu7StkhvVvnzOXVHaRURkZJR21hk9twsv7Um9BKNeunFZ7Mvn3AWlXURERkZpZ53Rc1tEaYd1lHYRERkZpZ11Rs9NaSeEXNq//O2HIiIie52DwzElkXlKOzQo7SIiIq+itC+D0g4NSruIiMirKO3LoLRDg9IuIiLyKkr7Mijt0KC0i4iIvIrSvgxKOzQo7SIiIq+itC+D0g4NSruIiMirKO3LoLRDg9IuIiLyKkr7Mijt0KC0i4iIvIrSvgxKOzQo7SIiIq+itC+D0g4NubQTi7nFZG5xmV1Mo8sffYyem9JOCC5EMZlbTOYWl9nFNLr80cfouSnthOBCFJO5xWRucZldTKPLH32MnpvSTgguRDGZW0zmFpfZxTS6/NHH6Lkp7YTgQhSTucVkbnGZXUyjyx99jJ6b0k4ILkQxmVtM5haX2cU0uvzRx+i5Ke2E4EIUk7nFZG5xmV1Mo8sffYyem9JOCC5EMZlbTOYWl9nFNLr80cfouSnthOBCFJO5xWRucZldTKPLH32MnpvSTgguRDGZW0zmFpfZxTS6/NHH6Lkp7YTgQhSTucVkbnGZXUyjyx99jJ6b0k4ILkQxmVtM5haX2cU0uvzRx+i5Ke2E4EIUk7nFZG5xmV1Mo8sffYyem9JOCC5EMZlbTOYWl9nFNLr80cfouSnthOBCFJO5xWRucZldTKPLH32MnpvSTgguRDGZW0zmFpfZxTS6/NHH6Lkp7YTgQhSTucVkbnGZXUyjyx99jJ6b0k4IxxeiB6+JiIjIpnn5/+pLKp0o7dCgtIuIiJwhSvvOKO3QoLSLiIicIUr7zijt0KC0i4iInCFK+84o7dCgtIuIiJwhSvvOKO3QoLSLiIicIUr7zijt0KC0i4iInCFK+84o7dCgtIuIiJwhSvvOKO3QoLSLiIicIUr7zijt0KC0i4iInCFK+84o7dCQS/vdu3dFRETkgnN4eFhfqveO0g4NSruIiMhyorQr7SG8ePFidePGjdW9e/fqp9gRpV1ERGQ5UdqV9ln3799fXbly5VQePXpUb7pTF1XaHz9+fOqzp1y7dm317NmzevNLRWkXERFZTpR2pX1WKu1Xr15dPXny5MRjo4v7RZf2kZ91W+kY6xn1oLSLiIgsJ0q70j6rVdpzgb59+/aJbXdJaZ+mtIuIiFz+KO1K+6xtSvudO3dOLCGpC3ba182bN1e/+c1vjl4/tV1SLktJ7//hhx82S/vTp09X169fP/G+dcFOx5Xe9+OPPz6xbd6uPO56/5uU9k2OIX32tKQmnce8bfle9TKc+tweHBysbt26dfx82tenn3564rGp156V0i4iIrKcKO1K+6xWaU8lt/VYq4SW5TUvqynXg7eW2tSvLUtx6z1aj5X7y6W8fN+yqOdtW69tPVba9Bjy56zPW2v7/HnzPnNhL8t4ek3+2p12ERGRyx+lXWmf1fpB1HTX+vnz5/WmJ7Tuxre+AaiXvbQKarJJkc3ynfV8jOnr+gdHW2W7dcx1oS5tcwz5PNZ38qf2ke/Mp2Ouz1FNaRcREbn8UdqV9ll10W7dGW9pldGyiE5tN1VQ68frEl+qj7lV2vPry89RH0tSL1spv3HJy202OYb666x1HElZxMulMa332nVp/+Q7XxIREbl0+cXjD4eVP/pQ2mfUZTMXyLoE12uuc7Yt7VNlfKq012U3qUtsj9Leep/WPrL6GOrzmLXWw+fU25dLesrPU79XL0q7iIhc5ijt8SjtM1plsy6yueyWy0FaBXiT0l6X86x+fKrcJ/Ux77q0b3IM9ddZ6zjWya/Jn0lpFxER2T5KezxK+4xW2azXfrfKa6sAb1La66+z+j2mtkvq9eS7Ku2t7bP6GFrnMam/GdlUWdSVdhERke2jtMejtM+YKptlEa5LfH7+LMtj8nZlUS6XkJTltt5u6rFdlfak9X5Tj7XOY36u3j69by795f+f1P/LRv0NTS9Ku4iIXOYo7fEo7TOmymYus/VylbzmOj2eynJdxuvy3CrKedu8r/Sa/DvJ62KajyOnday7LO3JJscwdR6zeh/1b+gpz8e65+tzeVZKu4iIXOYo7fEo7dCgtIuIyGWO0h6P0g4NSruIiFzmKO3xKO3QoLSLiMhljtIej9IODUq7iIhc5ijt8Sjt0JBL+5e//VBEREQ65OBgTNm8rJR2aFDaRURE+kZpPx+lHRqUdhERkb5R2s9HaYcGpV1ERKRvlPbzUdqhQWkXERHpG6X9fJR2aFDaRURE+kZpPx+lHRqUdhERkb5R2s9HaYcGpV1ERKRvlPbzUdqhQWkXERHpG6X9fJR2aMilnVjMLSZzi8vsYhpd/uhj9NyUdkJwIYrJ3GIyt7jMLqbR5Y8+Rs9NaScEF6KYzC0mc4vL7GIaXf7oY/TclHZCcCGKydxiMre4zC6m0eWPPkbPTWknBBeimMwtJnOLy+xiGl3+6GP03JR2QnAhisncYjK3uMwuptHljz5Gz01pJwQXopjMLSZzi8vsYhpd/uhj9NyUdkJwIYrJ3GIyt7jMLqbR5Y8+Rs9NaScEF6KYzC0mc4vL7GIaXf7oY/TclHZCcCGKydxiMre4zC6m0eWPPkbPTWknBBeimMwtJnOLy+xiGl3+6GP03JR2QnAhisncYjK3uMwuptHljz5Gz01pJwQXopjMLSZzi8vsYhpd/uhj9NyUdkJwIYrJ3GIyt7jMLqbR5Y8+Rs9NaScEF6KYzC0mc4vL7GIaXf7oY/TclHZCcCGKydxiMre4zC6m0eWPPkbPTWknBBeimMwtJnOLy+xiGl3+6GP03JR2Qji+ED14TUREZH/y8ov6kshCKO3QoLSLiMheRmlfLKUdGpR2ERHZyyjti6W0Q4PSLiIiexmlfbGUdmhQ2kVEZC+jtC+W0g4NSruIiOxllPbFUtqhQWkXEZG9jNK+WEo7NCjtIiKyl1HaF0tphwalXURE9jJK+2Ip7dCgtIuIyF5GaV8spR0acmm/e/euiIiIXHAODw/rS/XeUdqhQWkXERFZTpR2pR2alHYREZHlRGlX2hnk/v37qytXrhzn5s2bq+fPnx8/d/Xq1dWTJ0/qlx15+vTp6vr166t79+6deqzcZ/n8eSntIiIiy4nSrrQzQKuUp8dyyW6V8lL9+vwNwKNHj463OTg4WN26dWtyH9tS2kVERJYTpV1pZ8devHixunHjxur27dv1U8dy4S7vvk89lwt+Wdh3QWkXERFZTpR2pZ0dy6W9VchLrbvnSX0X/s6dO6tr166tnj17dmK73pR2ERGR5URpV9oZIBXtVMjn7rZP3ZEvl8ZMbbMLSruIiMhyorQr7QySi3v9Q6j1NuVd9HppTC7tvdatz1HaRURElhOlXWlnoFzCp37by+PHj08skamXxlxEaf/kO18SERHZeVaHB/WlaGdGlz/6GD03pZ3j8l3/Rpl6+UtaGlPeea+f3yWlXURERkZpZ53Rc1PaOVLfVc/yEplPP/306K58WdDr5TK7pLSLiMjIKO2sM3puSjtH6t+9nuUy/6Mf/aj5qx2nyn5vSruIiIyM0s46o+emtO+ZVLLrX9GY16q3lrnkJTCpmNevy/IPtdbFPT3ea7270i4iIiOjtLPO6Lkp7Xso3x0vM1euN/kVkdvuc1tKu4iIjIzSzjqj56a0E4LSLiIiI6O0s87ouSnthKC0i4jIyCjtrDN6bko7ISjtIiIyMko764yem9JOCEq7iIiMjNLOOqPnprQTQi7tX/72QxERkb3OweGYksg8pR0alHYREZFXUdqXQWmHBqVdRETkVZT2ZVDaoUFpFxEReRWlfRmUdmhQ2kVERF5FaV8GpR0alHYREZFXUdqXQWmHBqVdRETkVZT2ZVDaoUFpFxEReRWlfRmUdmhQ2kVERF5FaV8GpR0acmknFnOLydziMruYRpc/+hg9N6WdEFyIYjK3mMwtLrOLaXT5o4/Rc1PaCcGFKCZzi8nc4jK7mEaXP/oYPTelnRBciGIyt5jMLS6zi2l0+aOP0XNT2gnBhSgmc4vJ3OIyu5hGlz/6GD03pZ0QXIhiMreYzC0us4tpdPmjj9FzU9oJwYUoJnOLydziMruYRpc/+hg9N6WdEFyIYjK3mMwtLrOLaXT5o4/Rc1PaCcGFKCZzi8nc4jK7mEaXP/oYPTelnRBciGIyt5jMLS6zi2l0+aOP0XNT2gnBhSgmc4vJ3OIyu5hGlz/6GD03pZ0QXIhiMreYzC0us4tpdPmjj9FzU9oJwYUoJnOLydziMruYRpc/+hg9N6WdEFyIYjK3mMwtLrOLaXT5o4/Rc1PaCcGFKCZzi8nc4jK7mEaXP/oYPTelnRBciGIyt5jMLS6zi2l0+aOP0XNT2gnBhSgmc4vJ3OIyu5hGlz/6GD03pZ0QXIhiMreYzC0us4tpdPmjj9FzU9oJ4fhC9OA1ERGR3eflF/WlaGdGlz/6GD03pZ0QlHYRERkapZ01Rs9NaScEpV1ERIZGaWeN0XNT2glBaRcRkaFR2llj9NyUdkJQ2kVEZGiUdtYYPTelnRCUdhERGRqlnTVGz01pJwSlXUREhkZpZ43Rc1PaCUFpFxGRoVHaWWP03JR2QlDaRURkaJR21hg9N6WdEHJpv3v3roiIiJwzh4eH9aWWLSnt0KC0i4iI9IvSfn5KOzQo7SIiIv2itJ+f0k5Xjx8/Xl29enX15MmTE4/fuXPnxONpuytXrjS3ffr06er69eure/fuHT+27fbnpbSLiIj0i9J+fko7XbVK+/37948K96NHj049lnL79u3jx5NWCd92+/NS2kVERPpFaT8/pZ2u6tKe75DXhTqV8LTd97///VMlv1XCt93+vJR2ERGRflHaz09pp6uytOcyXd8ZT3IJ//DDD1c3btw4sU2rhG+7/Xkp7SIiIv2itJ+f0k5XubSnOd+6dWt18+bN1fPnz+vNjkt4Kvfl/5+0Svi225+X0i4iItIvSvv5Ke10lZfDpFy7dm317NmzepMjZfF+8eLFibvnrRK+7fbnpbSLiIj0i9J+fko7XeU77emHTqeWxiT13fLyh1VbJXzb7c9LaRcREekXpf38lHa6Kte0l8W6VpfwfPc8Laf5+OOPT5Xwbbc/r1zaP/nOl0REJGBWhwf1f9r5X6PLH32MnpvSfsnVvz2m/v3sWV3Ck7y05kc/+tGpEr7t9ueltIuIxI7SPm10+aOP0XNT2i+5urTnO+L1+vZWCT84ODj64dW33nrrVAnfdvvzUtpFRGJHaZ82uvzRx+i5Ke2XXF3a82P1P4rUKuHltvXvdt92+/NS2kVEYkdpnza6/NHH6Lkp7Zdcq7Qn9fr2qRKe757XJXzb7c9LaRcRiR2lfdro8kcfo+emtBOC0i4iEjtK+7TR5Y8+Rs9NaScEpV1EJHaU9mmjyx99jJ6b0k4ISruISOwo7dNGlz/6GD03pZ0QlHYRkdhR2qeNLn/0MXpuSjsh5NL+5W8/FBERGZqDw92WstHljz5Gz01pJwSlXURELipKOy2j56a0E4LSLiIiFxWlnZbRc1PaCUFpFxGRi4rSTsvouSnthKC0i4jIRUVpp2X03JR2QlDaRUTkoqK00zJ6bko7ISjtIiJyUVHaaRk9N6WdEJR2ERG5qCjttIyem9JOCEq7iIhcVJR2WkbPTWknBKVdREQuKko7LaPnprQTQi7txGJuMZlbXGYX0+jyRx+j56a0E4ILUUzmFpO5xWV2MY0uf/Qxem5KOyG4EMVkbjGZW1xmF9Po8kcfo+emtBOCC1FM5haTucVldjGNLn/0MXpuSjshuBDFZG4xmVtcZhfT6PJHH6PnprQTggtRTOYWk7nFZXYxjS5/9DF6bko7IbgQxWRuMZlbXGYX0+jyRx+j56a0E4ILUUzmFpO5xWV2MY0uf/Qxem5KOyG4EMVkbjGZW1xmF9Po8kcfo+emtBOCC1FM5haTucVldjGNLn/0MXpuSjshuBDFZG4xmVtcZhfT6PJHH6PnprQTggtRTOYWk7nFZXYxjS5/9DF6bko7IbgQxWRuMZlbXGYX0+jyRx+j56a0E4ILUUzmFpO5xWV2MY0uf/Qxem5KOyG4EMVkbjGZW1xmF9Po8kcfo+emtBOCC1FM5haTucVldjGNLn/0MXpuSjshuBDFZG4xmVtcZhfT6PJHH6PnprQTggtRTOYWk7nFZXYxjS5/9DF6bko7IbgQxWRuMZlbXGYX0+jyRx+j56a0E4ILUUzmFpO5xWV2MY0uf/Qxem5KOyG4EMVkbjGZW1xmF9Po8kcfo+emtBOCC1FM5haTucVldjGNLn/0MXpuSjshuBDFZG4xmVtcZhfT6PJHH6PnprQTggtRTOYWk7nFZXYxjS5/9DF6bko7IbgQxWRuMZlbXGYX0+jyRx+j56a0E4ILUUzmFpO5xWV2MY0uf/Qxem5KOyG4EMVkbjGZW1xmF9Po8kcfo+emtBOCC1FM5haTucVldjGNLn/0MXpuSjshuBDFZG4xmVtcZhfT6PJHH6PnprQTggtRTOYWk7nFZXYxjS5/9DF6bko7IbgQxWRuMZlbXGYX0+jyRx+j56a0E4ILUUzmFpO5xWV2MY0uf/Qxem5KOyG4EMVkbjGZW1xmF9Po8kcfo+emtBOCC1FM5haTucVldjGNLn/0MXpuSjshuBDFZG4xmVtcZhfT6PJHH6PnprQTggtRTOYWk7nFZXYxjS5/9DF6bko7IbgQxWRuMZlbXGYX0+jyRx+j56a0E4ILUUzmFpO5xWV2MY0uf/Qxem5KOyG4EMVkbjGZW1xmF9Po8kcfo+emtBOCC1FM5haTucVldjGNLn/0MXpuSjshuBDFZG4xmVtcZhfT6PJHH6PnprQTggtRTOYWk7nFZXYxjS5/9DF6bko7IbgQxWRuMZlbXGYX0+jyRx+j56a0E4ILUUzmFpO5xWV2MY0uf/Qxem5KOyG4EMVkbjGZW1xmF9Po8kcfo+emtBOCC1FM5haTucVldjGNLn/0MXpuSjshuBDFZG4xmVtcZhfT6PJHH6PnprQTggtRTOYWk7nFZXYxjS5/9DF6bko7IbgQxWRuMZlbXGYX0+jyRx+j56a0E4ILUUzmFpO5xWV2MY0uf/Qxem5KOyG4EMVkbjGZW1xmF9Po8kcfo+emtBOCC1FM5haTucVldjGNLn/0MXpuSjshuBDFZG4xmVtcZhfT6PJHH6PnprQTggtRTOYWk7nFZXYxjS5/9DF6bko7IbgQxWRuMZlbXGYX0+jyRx+j56a0E4ILUUzmFpO5xWV2MY0uf/Qxem5KOyG4EMVkbjGZW1xmF9Po8kcfo+emtBOCC1FM5haTucVldjGNLn/0MXpuSjshuBDFZG4xmVtcZhfT6PJHH6PnprQTggtRTOYWk7nFZXYxjS5/9DF6bko7IbgQxWRuMZlbXGYX0+jyRx+j56a0E4ILUUzmFpO5xWV2MY0uf/Qxem5KOyG4EMVkbjGZW1xmF9Po8kcfo+emtBOCC1FM5haTucVldjGNLn/0MXpuSjsAACyc0g4AAAuntAMAwMIp7QAAsHBKOwAALJzSDgAAC6e0AwDAwintAACwcEo7AAAsnNIOAAALp7QDAMDCKe0AALBwSjsAACyc0g4AAAuntAMAwMIp7QAAsHBKOwAALJzSDgAAC6e0s2gvXrxY3bhxY3XlypXjPHr0qN6MC3CW2RwcHKxu3bp14jW3b9+uN2OH0tzefPPNEzN4+PBhvdmkNMN33333eHYvX76sN2FHpma3yQyePn26euONN0689oMPPtjotZxPmtu3vvWtE+f+n/7pn9ae+5///Oerr3zlK2a2YOm/h9/73vdWr7/++uonP/nJzmejtLNY6SJz/fr11b17944fu3///tF/uNaVQ3brrLO5c+fOiZL++PHj4/LH7uXiluaWLy5pbumCs2lxT9t/9atfXb399ttK+0B5dmVpe/DgwfHs5uaw6Xb0l+b2jW9849TcUhmfK+65sJfb5McU92VI87h69erxN1RKO3stFbybN2+unj9/fvxYvlNbP85YPWeT9nXt2rXVZ599Vj9FZ++9997RfD7//PPjx/Kd8/rxlnyn98c//vHRrJX2cc46u1bZZ5w0t/QN7u9+97vjx9Lc0t+dNLfy8dLdu3cnX5dyeHh4YnvG+uUvf7n6vd/7vdX777+/+vDDD4/Ku9LO3spLL8o7uVm605f+gjx58qR+igF6zya9RmnfvVy4y7vsWb57/tFHH514vJaL429/+9ujsqi0j5Fn1yre6a7t3OzS81//+tf9/boAeVnM1Ny+9rWvrVIHq59LUmlPc/v1r399/FjeX/q7p7QvR77jrrSzt/Lyi9ZSi7ykovUcu9d7Nu60j5HvuLaWwaS5rVsik17/zW9+86gc5ju8SvsY5ezq813Orn5ukzvx7E5eGtNaBtNa/lLKr03/bUzFPd9lr4s8F09pZ+/Nlb+559i9ufM/91xLa208uzFXzOeeS+qSXn/Nbs0V87nn8pz+7M/+7Gg5U9our79V5HdvrpjPPZfl4p5n5g77Mint7L258jf3HLs3d/7nnqvlNfDpTtKzZ8/qp+lsrpjPPZek58slFkr7WHPFfO65vKwmFYpy+Ux+XHHfrbliPvdcln9g9a233jq6uZH+2/qHf/iHk+vguRhKO3uv9xIM+uk1m7QsZtv175zdWZfHtNbCK+1jnXd5TGtO69bCc37nWR6T1rSn+ZRr3vNrFPdlUdrZe3PLJs7yw47002M2m/x6SPrKxW/bH0TNpTD/T/SttMo+/eTZTf1A49Ts5ta0z72OPnJpn5rb1A+invV1XAylnb039esDpx5nnKkZTD1ey4W9VfrZnakCN/X4nLk7uPQ3NaOpx0tTvz0m/Sag1uP0k+bT+tWOU49nSnssSjsUSy3qf8Bnkzu57Nams6nvqLdexzj5rnlZBlp32df9g0tK+3it2bXultf/kFK+S1/OqrUvdqP1DyK1inf5Dy598cUXR/Oql8fkMu8HUpdFaYf/lUteTl0KuTibzKYs7flOfL20IiddpNi9erlL/UOKidK+TJvMri7tSS7u5d+31hp4diMX93Ju9Z3ysrTnx9O69nppmm+0liH/40r1dSwl/czB//zP/9Qv6UJpBwCAhVPaAQBg4ZR2AABYOKUdAAAWTmkHAICFU9oBAGDhlHYAAFg4pR0AABZOaQcAgIVT2gEAYOGUdgAAWDilHQAAFk5pBwCAhVPaAQBg4ZR2AABYOKUdAAAWTmkHAICFU9oBAGDhlHYAAFg4pR0AABZOaQcAgIVT2gEAYOGUdgAAWDilHQAAFk5pBwCAhVPaAQBg4ZR2AABYOKUdAAAWTmkH2LGDg4PVu+++u7p58+bq888/n3yM7c/LttsDRKW0Q2ePHz9eXbly5VSuXbu2evbs2YltU+G4devW0fOPHj068Rznc//+/VMzuKjz3CqWrceWIP35ff3110+dtw8++GD18uXLevPutj0v225/Wbz33ntHc0qffcRcgIuntENnubSvK4d1uV+3PdtJpf3q1aurjz766MRjF3GuW8Wy9dgSpD+XX/3qV0+ct1zkb9++rSAuwIsXL1Zvvvnm6p133jm6GfDZZ5/VmwCXkNIOLQ9e2ywNm5T2p0+frq5fv766d+/eRtvvo7t3726UKa3SnsvO6PLZKuitx3r55J3/s/rkO19am1XjHLRKe5Lu7CqI5/d/33q0+vK3H67NYWM2WZrR17/+9aMZvfHGG6uHDx8O/fMMXAylHVrqcj6Vhm1L+Kbbl0tpUlrLbeq796mclvI3C3N3+FPZTft+8uTJ8bbpm4tk3f57qsv5VKZsU9rrJSH185tsd+fOnRPnJp+zpFXQW4/1sovSns5n+Xj6uiyO6TPnJTRz56nU2u6LL75onpd8vvK2+RuIqfOY/qzn48pJ5bb04MGD1dtvv3309yj9ucjb7XIp0HlLe/685bna9PzWS2nmnk/fpKX5/vrXvz7ePv39+da3vnXi/KRzOPXnIC/hmTuv6Ri+8pWvnDqG1vsnP//5z1df+9rXVroL+0hph5a6nE+lYdMSnm2yfS7sZUlOr6u/rveTimT+Oj9flsnWa/ISklR4U3Gf2rb8Xwt2oS7nU5nSKu3pfNSP5eKSC10ue/XnqrdL8vlN/7c+r+W2rWLZeqyXXZT2+k57Or/pM256PuvCVm+XpPf4yU9+cvRnvXWuynKaXv+9732vWfLzvsv3bL1fKpzpsfJz5cd2dff6vKU9n898fOl4W/MqP29ZxNOf1/Ibq6nnW6V5qrS3/hyk16e/E+X5T+W8fL/WY/kYWs/l59M3Wr/73e+OH4N9obRDS13Op9JQl9t1Ntk+XSxv3LhxqkhmrVJfmns+Fc5UeJ4/f370dS7t9Z3i1uvzXfn6jn8PdTmfypTWD6LWBbn8XGUxyJ8rF7lWaZxT39FvFfTWY730Lu25oJdlrfXY1HnKd+U3OZ+t85LPZ1kCp7af23cqfOV+W4U3v1f9TUYv5y3t+c52Ppetb4rmzsEmzyfblvZ15yu/tv47MXUM5fOHh4cn9rHuveCyUtqhpS7nU2nIJbxOWYxb28+V9lwu6zKdrbvrPfd8viOd76rXXyf59fUxpmOvt+2lLudTmVLfac8lvvwMufC0PldZ5qbuvk+pC0ldLMttlljaUwkr/+zWd1GTerlMUt4FLk2dz1b5ap2X/Fg6lvo19fZz+65Lel2Ak3p2vZ2ntNefNcnfZJSPzZ2DTZ5Ptint9Z+Dlvq8pmP4xje+MXsMed+5p1gaw75T2qGlLudTadikhJe22b5cN13e4Z4q1dnc83Xxnivt9TciudBFKO35G5/yDnouL/VnqovqVLnPylJZJmpp36SEzZX2+jxMnc+63Cdz56VcIz21pn1u3/Vni1bap8p2Oi+tb4rqpSXZuueT85b2fB7rbwDTY2VpnzuGuthbGsO+U9qhpS7nU2nYpoQn226f5BKdi3v+eupO8NzzdUmvv07mSv+u1OV8KlPq0p7ku8j5c6wr41nernX+6tJYPravpb1VmEtT5TPZ5Lzk16c//5988kmztLf2XRfMaKU9L0WpvyHKyZ957hwk655PzlPaWzOsz2tdyFvK/aQZ1e8N+0Zph5a6nE+lYdsSvu32WXmHPK95TxfElnTxa61JT1pr2uvSvm5N/S7U5XwqU1qlvV5rXq6VnlO/rtQq9HVBmSsxc+X0rC6qtM+tPS/Nnc9Nz0s+zrRkoty+Pvel1pr2KKV97rzUz82d32Td80k+N2Vpb5X9VmlvFfL6vNZr3Kfk/f/93//9iaUysI+Udmipy/lUGrYt4Ztsn7Ypi3Uu4XXZrvdT/laT1vNTj9WlfWrb+rh6qsv5VKa0SnuSzkn9W1DS5yrvDufPVZaj1nZpX+kY8jdMuXzkZUz7Vtrz4/VvaUn7TMsa6vNZb5dK9fvvv3/qt8fUry/P3W9/+9tT5zHfkS73PfVYlNKe/1eiqeUk5edLz9dfJ+VvdFn3fF3Q89flHf38vvWfg1Yhz0ub0rktXzt3DOW+0vumGVsawz5T2qGlLudTadikhOflJvl/1i4zVYJzaZzbrt6mvrOejy1nqpy3Hk/q17eOoZe6nE9lylRpz+WnvDOeHys/V6tIt85vXWhS0r5Tcd/H0p5scz7L7dL5av0Kx6ReGpKfnzqP9TG0/ixEKu15uUp5rKX8Z7A87vqclYV52+fTN7q/+tWvjrYpS3WrtCf5bnvedyr65d+JbN0xJLnwT33DAvtCaQcAFqu1vh72kdIOACxSudQm/7522FdKOwCwSHn5ja4CSjsAACye0g4AAAuntAMAwMIp7QAAsHBKOwAALJzSDgAAC6e0AwDAwintAACwcEo7AAAsnNIOAAALp7QDAMDCKe0AALBwSjsAACyc0g4AAAuntAMAwMIp7QAAsHBKOwAALJzSDgAAC6e0AwDAwintAACwcP8ffMduJ2yisGcAAAAASUVORK5CYII=)"
      ],
      "metadata": {
        "id": "xTvvDGdo2BYy"
      }
    },
    {
      "cell_type": "markdown",
      "source": [
        "# **Discussion**"
      ],
      "metadata": {
        "id": "wi9ZjUwZ2wTx"
      }
    },
    {
      "cell_type": "markdown",
      "source": [
        "Based on the observed trends, it is evident that the Random Forest model outperforms all other models in this case, achieving an accuracy of **85.24%** on the test dataset. Additionally, it is noteworthy that the model achieved a perfect *100%* accuracy on the training dataset, indicating its strong performance during training."
      ],
      "metadata": {
        "id": "SA7SEdIi2Eu4"
      }
    }
  ]
}
